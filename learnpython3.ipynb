{
 "cells": [
  {
   "cell_type": "markdown",
   "metadata": {},
   "source": [
    "# Tower of Honai"
   ]
  },
  {
   "cell_type": "code",
   "execution_count": 1,
   "metadata": {},
   "outputs": [
    {
     "name": "stdout",
     "output_type": "stream",
     "text": [
      "moving disk from A to B\n",
      "moving disk from A to C\n",
      "moving disk from B to C\n",
      "moving disk from A to B\n",
      "moving disk from C to A\n",
      "moving disk from C to B\n",
      "moving disk from A to B\n"
     ]
    }
   ],
   "source": [
    "def move_tower(height, from_pole, to_pole, with_pole):\n",
    "    if height >= 1:\n",
    "        move_tower(height - 1, from_pole, with_pole, to_pole)\n",
    "        move_disk(from_pole, to_pole)\n",
    "        move_tower(height - 1, with_pole, to_pole, from_pole)\n",
    "\n",
    "def move_disk(fp,tp):\n",
    "    print(\"moving disk from\",fp,\"to\",tp)\n",
    "\n",
    "\n",
    "move_tower(3, \"A\", \"B\", \"C\")"
   ]
  },
  {
   "cell_type": "code",
   "execution_count": 3,
   "metadata": {},
   "outputs": [
    {
     "name": "stdout",
     "output_type": "stream",
     "text": [
      "True\n"
     ]
    }
   ],
   "source": [
    "def linear_search(arr, item)->bool:\n",
    "\n",
    "    found = False\n",
    "    index = 0\n",
    "\n",
    "    while index < len(arr):\n",
    "        if arr[index] == item and not found:\n",
    "            found = True\n",
    "        else:\n",
    "            index = index + 1\n",
    "    return found\n",
    "\n",
    "test_list = [1, 2, 32, 8, 17, 19, 42, 13, 0]\n",
    "print(linear_search(test_list, 13))"
   ]
  },
  {
   "cell_type": "code",
   "execution_count": 3,
   "metadata": {},
   "outputs": [
    {
     "name": "stdout",
     "output_type": "stream",
     "text": [
      "3.10.0 (tags/v3.10.0:b494f59, Oct  4 2021, 19:00:18) [MSC v.1929 64 bit (AMD64)]\n"
     ]
    }
   ],
   "source": [
    "import sys\n",
    "print(sys.version)"
   ]
  },
  {
   "cell_type": "code",
   "execution_count": 9,
   "metadata": {},
   "outputs": [
    {
     "name": "stdout",
     "output_type": "stream",
     "text": [
      "Sorted \n",
      "[1, 3, 4, 5, 6, 7]\n"
     ]
    }
   ],
   "source": [
    "def is_sorted(arr):\n",
    "        \n",
    "    if(all(arr[i]) <= arr[i+1] for i in range(len(arr)-1)): \n",
    "        print(\"Sorted \") \n",
    "    else:\n",
    "        print(\"not sorted\")\n",
    "\n",
    "arr = [1,3,4,5,6,7]\n",
    "is_sorted(arr)\n",
    "\n",
    "print(sorted(arr))"
   ]
  },
  {
   "cell_type": "code",
   "execution_count": 11,
   "metadata": {},
   "outputs": [
    {
     "data": {
      "text/plain": [
       "True"
      ]
     },
     "execution_count": 11,
     "metadata": {},
     "output_type": "execute_result"
    }
   ],
   "source": [
    "def is_sorted2(arr):\n",
    "    return sorted(arr)==arr\n",
    "\n",
    "is_sorted2(arr)"
   ]
  },
  {
   "cell_type": "markdown",
   "metadata": {},
   "source": [
    "# Binary Search"
   ]
  },
  {
   "cell_type": "code",
   "execution_count": 8,
   "metadata": {},
   "outputs": [
    {
     "name": "stdout",
     "output_type": "stream",
     "text": [
      "None\n"
     ]
    }
   ],
   "source": [
    "def bineary_search(arr,item):\n",
    "\n",
    "\tif not is_sorted(arr):\n",
    "\t\traise ValueError(\"Array not sorted\")\n",
    "\t\n",
    "\tlow = 0\n",
    "\thigh = len(arr)-1\n",
    "\t\n",
    "\t\n",
    "\twhile low < high:\n",
    "\t\tmid = int((low + high) /2)\n",
    "\t\tguess = arr[mid]\n",
    "\t\t\n",
    "\t\tif guess < item:\n",
    "\t\t\tlow = mid+1\n",
    "\t\telif guess > item:\n",
    "\t\t\thigh = mid -1\n",
    "\t\telif guess == item:\n",
    "\t\t\treturn item\n",
    "\t\n",
    "\treturn None\n",
    "\t\n",
    "\n",
    "def is_sorted(arr):\n",
    "\treturn all(arr[i] < arr[i+1] for i in range(len(arr)-1))\n",
    "\n",
    "\n",
    "arr=[1,2,4,5,6]\n",
    "print(bineary_search(arr,7))"
   ]
  },
  {
   "cell_type": "markdown",
   "metadata": {},
   "source": [
    "# Triplet sum zero"
   ]
  },
  {
   "cell_type": "code",
   "execution_count": 4,
   "metadata": {},
   "outputs": [
    {
     "name": "stdout",
     "output_type": "stream",
     "text": [
      "find sum zero 0 -1 1\n",
      "find sum zero 2 -3 1\n"
     ]
    }
   ],
   "source": [
    "def find_triplets(arr):\n",
    "    n = len(arr)\n",
    "    found = False\n",
    "    for i in range(0,n-2):\n",
    "        for j in range(i+1,n-1):\n",
    "            for k in range(j+1,n):\n",
    "                if arr[i]+arr[j]+arr[k]==0:\n",
    "                    print(\"find sum zero {} {} {}\".format(arr[i],arr[j],arr[k]))\n",
    "                    found = True\n",
    "    \n",
    "    # If no triplet with 0 sum\n",
    "    # found in array\n",
    "    if (found == False):\n",
    "        print(\" not exist \")\n",
    "\n",
    "arr = [0, -1, 2, -3, 1]\n",
    "find_triplets(arr)"
   ]
  },
  {
   "cell_type": "markdown",
   "metadata": {},
   "source": [
    "# Selection Sort   \n"
   ]
  },
  {
   "cell_type": "code",
   "execution_count": 7,
   "metadata": {},
   "outputs": [
    {
     "name": "stdout",
     "output_type": "stream",
     "text": [
      "[1, 2, 3, 4, 5, 7, 9]\n"
     ]
    }
   ],
   "source": [
    "def find_smallest(arr):\n",
    "\tsmall = arr[0]\n",
    "\tsmall_index = 0\n",
    "\t\n",
    "\tfor i in range(1,len(arr)):\n",
    "\t\tif arr[i] < small:\n",
    "\t\t\tsmall = arr[i]\n",
    "\t\t\tsmall_index = i\n",
    "\t\n",
    "\treturn small_index\n",
    "\t\n",
    "def selection_sort(arr):\n",
    "\tsorted_arr = []\n",
    "\t\n",
    "\tfor i in range(len(arr)):\n",
    "\t\tsmall = find_smallest(arr)\n",
    "\t\tsorted_arr.append(arr.pop(small))\n",
    "\t\n",
    "\treturn sorted_arr\n",
    "\t\n",
    "arr=[1,7,2,5,4,9,3]\n",
    "print(selection_sort(arr))"
   ]
  },
  {
   "cell_type": "code",
   "execution_count": null,
   "metadata": {},
   "outputs": [],
   "source": []
  }
 ],
 "metadata": {
  "interpreter": {
   "hash": "7539fa9207f909db1590eeed8c4bcdcdcccdcce1ac4a8162adc4e86c0ab176be"
  },
  "kernelspec": {
   "display_name": "Python 3.10.0 64-bit",
   "language": "python",
   "name": "python3"
  },
  "language_info": {
   "codemirror_mode": {
    "name": "ipython",
    "version": 3
   },
   "file_extension": ".py",
   "mimetype": "text/x-python",
   "name": "python",
   "nbconvert_exporter": "python",
   "pygments_lexer": "ipython3",
   "version": "3.10.0"
  },
  "orig_nbformat": 4
 },
 "nbformat": 4,
 "nbformat_minor": 2
}
