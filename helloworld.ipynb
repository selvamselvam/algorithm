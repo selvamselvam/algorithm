{
    "cells": [
        {
            "cell_type": "code",
            "execution_count": 1,
            "source": [
                "print(\"hello world\")"
            ],
            "outputs": [
                {
                    "output_type": "stream",
                    "name": "stdout",
                    "text": [
                        "hello world\n"
                    ]
                }
            ],
            "metadata": {}
        },
        {
            "cell_type": "code",
            "execution_count": 2,
            "source": [
                "import numpy as np\r\n",
                "\r\n",
                "print(np.__version__)"
            ],
            "outputs": [
                {
                    "output_type": "stream",
                    "name": "stdout",
                    "text": [
                        "1.20.2\n"
                    ]
                }
            ],
            "metadata": {}
        },
        {
            "cell_type": "code",
            "execution_count": 1,
            "source": [
                "import tensorflow as tf\r\n",
                "\r\n",
                "print(tf.__version__)"
            ],
            "outputs": [
                {
                    "output_type": "stream",
                    "name": "stdout",
                    "text": [
                        "2.3.0\n"
                    ]
                }
            ],
            "metadata": {}
        },
        {
            "cell_type": "code",
            "execution_count": 4,
            "source": [
                "import pandas as pd\r\n",
                "\r\n",
                "# load the training dataset\r\n",
                "!wget https://raw.githubusercontent.com/MicrosoftDocs/mslearn-introduction-to-machine-learning/main/Data/ml-basics/seeds.csv\r\n"
            ],
            "outputs": [
                {
                    "output_type": "stream",
                    "name": "stderr",
                    "text": [
                        "--2021-08-06 15:12:26--  https://raw.githubusercontent.com/MicrosoftDocs/mslearn-introduction-to-machine-learning/main/Data/ml-basics/seeds.csv\n",
                        "Resolving raw.githubusercontent.com (raw.githubusercontent.com)... 185.199.108.133, 185.199.109.133, 185.199.110.133, ...\n",
                        "Connecting to raw.githubusercontent.com (raw.githubusercontent.com)|185.199.108.133|:443... connected.\n",
                        "HTTP request sent, awaiting response... 200 OK\n",
                        "Length: 9386 (9.2K) [text/plain]\n",
                        "Saving to: 'seeds.csv'\n",
                        "\n",
                        "     0K .........                                             100% 11.2M=0.001s\n",
                        "\n",
                        "2021-08-06 15:12:26 (11.2 MB/s) - 'seeds.csv' saved [9386/9386]\n",
                        "\n"
                    ]
                }
            ],
            "metadata": {}
        },
        {
            "cell_type": "code",
            "execution_count": 9,
            "source": [
                "data = pd.read_csv('seeds.csv')\r\n",
                "\r\n",
                "# Display a random sample of 10 observations (just the features)\r\n",
                "features = data[data.columns[0:6]]\r\n",
                "features.sample(10)"
            ],
            "outputs": [
                {
                    "output_type": "execute_result",
                    "data": {
                        "text/html": [
                            "<div>\n",
                            "<style scoped>\n",
                            "    .dataframe tbody tr th:only-of-type {\n",
                            "        vertical-align: middle;\n",
                            "    }\n",
                            "\n",
                            "    .dataframe tbody tr th {\n",
                            "        vertical-align: top;\n",
                            "    }\n",
                            "\n",
                            "    .dataframe thead th {\n",
                            "        text-align: right;\n",
                            "    }\n",
                            "</style>\n",
                            "<table border=\"1\" class=\"dataframe\">\n",
                            "  <thead>\n",
                            "    <tr style=\"text-align: right;\">\n",
                            "      <th></th>\n",
                            "      <th>area</th>\n",
                            "      <th>perimeter</th>\n",
                            "      <th>compactness</th>\n",
                            "      <th>kernel_length</th>\n",
                            "      <th>kernel_width</th>\n",
                            "      <th>asymmetry_coefficient</th>\n",
                            "    </tr>\n",
                            "  </thead>\n",
                            "  <tbody>\n",
                            "    <tr>\n",
                            "      <th>68</th>\n",
                            "      <td>14.37</td>\n",
                            "      <td>14.39</td>\n",
                            "      <td>0.8726</td>\n",
                            "      <td>5.569</td>\n",
                            "      <td>3.153</td>\n",
                            "      <td>1.4640</td>\n",
                            "    </tr>\n",
                            "    <tr>\n",
                            "      <th>95</th>\n",
                            "      <td>16.87</td>\n",
                            "      <td>15.65</td>\n",
                            "      <td>0.8648</td>\n",
                            "      <td>6.139</td>\n",
                            "      <td>3.463</td>\n",
                            "      <td>3.6960</td>\n",
                            "    </tr>\n",
                            "    <tr>\n",
                            "      <th>113</th>\n",
                            "      <td>19.14</td>\n",
                            "      <td>16.61</td>\n",
                            "      <td>0.8722</td>\n",
                            "      <td>6.259</td>\n",
                            "      <td>3.737</td>\n",
                            "      <td>6.6820</td>\n",
                            "    </tr>\n",
                            "    <tr>\n",
                            "      <th>56</th>\n",
                            "      <td>14.46</td>\n",
                            "      <td>14.35</td>\n",
                            "      <td>0.8818</td>\n",
                            "      <td>5.388</td>\n",
                            "      <td>3.377</td>\n",
                            "      <td>2.8020</td>\n",
                            "    </tr>\n",
                            "    <tr>\n",
                            "      <th>132</th>\n",
                            "      <td>15.38</td>\n",
                            "      <td>14.90</td>\n",
                            "      <td>0.8706</td>\n",
                            "      <td>5.884</td>\n",
                            "      <td>3.268</td>\n",
                            "      <td>4.4620</td>\n",
                            "    </tr>\n",
                            "    <tr>\n",
                            "      <th>77</th>\n",
                            "      <td>20.71</td>\n",
                            "      <td>17.23</td>\n",
                            "      <td>0.8763</td>\n",
                            "      <td>6.579</td>\n",
                            "      <td>3.814</td>\n",
                            "      <td>4.4510</td>\n",
                            "    </tr>\n",
                            "    <tr>\n",
                            "      <th>147</th>\n",
                            "      <td>12.49</td>\n",
                            "      <td>13.46</td>\n",
                            "      <td>0.8658</td>\n",
                            "      <td>5.267</td>\n",
                            "      <td>2.967</td>\n",
                            "      <td>4.4210</td>\n",
                            "    </tr>\n",
                            "    <tr>\n",
                            "      <th>30</th>\n",
                            "      <td>13.16</td>\n",
                            "      <td>13.82</td>\n",
                            "      <td>0.8662</td>\n",
                            "      <td>5.454</td>\n",
                            "      <td>2.975</td>\n",
                            "      <td>0.8551</td>\n",
                            "    </tr>\n",
                            "    <tr>\n",
                            "      <th>66</th>\n",
                            "      <td>14.34</td>\n",
                            "      <td>14.37</td>\n",
                            "      <td>0.8726</td>\n",
                            "      <td>5.630</td>\n",
                            "      <td>3.190</td>\n",
                            "      <td>1.3130</td>\n",
                            "    </tr>\n",
                            "    <tr>\n",
                            "      <th>124</th>\n",
                            "      <td>15.99</td>\n",
                            "      <td>14.89</td>\n",
                            "      <td>0.9064</td>\n",
                            "      <td>5.363</td>\n",
                            "      <td>3.582</td>\n",
                            "      <td>3.3360</td>\n",
                            "    </tr>\n",
                            "  </tbody>\n",
                            "</table>\n",
                            "</div>"
                        ],
                        "text/plain": [
                            "      area  perimeter  compactness  kernel_length  kernel_width  \\\n",
                            "68   14.37      14.39       0.8726          5.569         3.153   \n",
                            "95   16.87      15.65       0.8648          6.139         3.463   \n",
                            "113  19.14      16.61       0.8722          6.259         3.737   \n",
                            "56   14.46      14.35       0.8818          5.388         3.377   \n",
                            "132  15.38      14.90       0.8706          5.884         3.268   \n",
                            "77   20.71      17.23       0.8763          6.579         3.814   \n",
                            "147  12.49      13.46       0.8658          5.267         2.967   \n",
                            "30   13.16      13.82       0.8662          5.454         2.975   \n",
                            "66   14.34      14.37       0.8726          5.630         3.190   \n",
                            "124  15.99      14.89       0.9064          5.363         3.582   \n",
                            "\n",
                            "     asymmetry_coefficient  \n",
                            "68                  1.4640  \n",
                            "95                  3.6960  \n",
                            "113                 6.6820  \n",
                            "56                  2.8020  \n",
                            "132                 4.4620  \n",
                            "77                  4.4510  \n",
                            "147                 4.4210  \n",
                            "30                  0.8551  \n",
                            "66                  1.3130  \n",
                            "124                 3.3360  "
                        ]
                    },
                    "metadata": {},
                    "execution_count": 9
                }
            ],
            "metadata": {}
        },
        {
            "cell_type": "code",
            "execution_count": 6,
            "source": [
                "from sklearn.preprocessing import MinMaxScaler\r\n",
                "from sklearn.decomposition import PCA\r\n",
                "\r\n",
                "# Normalize the numeric features so they're on the same scale\r\n",
                "scaled_features = MinMaxScaler().fit_transform(features[data.columns[0:6]])\r\n",
                "\r\n",
                "# Get two principal components\r\n",
                "pca = PCA(n_components=2).fit(scaled_features)\r\n",
                "features_2d = pca.transform(scaled_features)\r\n",
                "features_2d[0:10]"
            ],
            "outputs": [
                {
                    "output_type": "execute_result",
                    "data": {
                        "text/plain": [
                            "array([[ 0.11883593, -0.09382469],\n",
                            "       [ 0.0696878 , -0.31077233],\n",
                            "       [-0.03499184, -0.37044705],\n",
                            "       [-0.06582089, -0.36365235],\n",
                            "       [ 0.32594892, -0.37695797],\n",
                            "       [-0.02455447, -0.31060184],\n",
                            "       [-0.00769646, -0.07594931],\n",
                            "       [-0.05646955, -0.26696284],\n",
                            "       [ 0.38196305, -0.05149471],\n",
                            "       [ 0.35701044, -0.17697998]])"
                        ]
                    },
                    "metadata": {},
                    "execution_count": 6
                }
            ],
            "metadata": {}
        },
        {
            "cell_type": "code",
            "execution_count": 8,
            "source": [
                "import matplotlib.pyplot as plt\r\n",
                "\r\n",
                "%matplotlib inline\r\n",
                "\r\n",
                "plt.scatter(features_2d[:,0],features_2d[:,1])\r\n",
                "plt.xlabel('Dimension 1')\r\n",
                "plt.ylabel('Dimension 2')\r\n",
                "plt.title('Data')\r\n",
                "plt.show()"
            ],
            "outputs": [
                {
                    "output_type": "display_data",
                    "data": {
                        "image/png": "[encoded data removed]",
                        "image/svg+xml": "<?xml version=\"1.0\" encoding=\"utf-8\" standalone=\"no\"?>\r\n<!DOCTYPE svg PUBLIC \"-//W3C//DTD SVG 1.1//EN\"\r\n  \"http://www.w3.org/Graphics/SVG/1.1/DTD/svg11.dtd\">\r\n<!-- Created with matplotlib (https://matplotlib.org/) -->\r\n<svg height=\"277.314375pt\" version=\"1.1\" viewBox=\"0 0 394.160938 277.314375\" width=\"394.160938pt\" xmlns=\"http://www.w3.org/2000/svg\" xmlns:xlink=\"http://www.w3.org/1999/xlink\">\r\n <metadata>\r\n  <rdf:RDF xmlns:cc=\"http://creativecommons.org/ns#\" xmlns:dc=\"http://purl.org/dc/elements/1.1/\" xmlns:rdf=\"http://www.w3.org/1999/02/22-rdf-syntax-ns#\">\r\n   <cc:Work>\r\n    <dc:type rdf:resource=\"http://purl.org/dc/dcmitype/StillImage\"/>\r\n    <dc:date>2021-08-06T15:18:21.440351</dc:date>\r\n    <dc:format>image/svg+xml</dc:format>\r\n    <dc:creator>\r\n     <cc:Agent>\r\n      <dc:title>Matplotlib v3.3.4, https://matplotlib.org/</dc:title>\r\n     </cc:Agent>\r\n    </dc:creator>\r\n   </cc:Work>\r\n  </rdf:RDF>\r\n </metadata>\r\n <defs>\r\n  <style type=\"text/css\">*{stroke-linecap:butt;stroke-linejoin:round;}</style>\r\n </defs>\r\n <g id=\"figure_1\">\r\n  <g id=\"patch_1\">\r\n   <path d=\"M 0 277.314375 \r\nL 394.160938 277.314375 \r\nL 394.160938 0 \r\nL 0 0 \r\nz\r\n\" style=\"fill:none;\"/>\r\n  </g>\r\n  <g id=\"axes_1\">\r\n   <g id=\"patch_2\">\r\n    <path d=\"M 52.160938 239.758125 \r\nL 386.960938 239.758125 \r\nL 386.960938 22.318125 \r\nL 52.160938 22.318125 \r\nz\r\n\" style=\"fill:#ffffff;\"/>\r\n   </g>\r\n   <g id=\"PathCollection_1\">\r\n    <defs>\r\n     <path d=\"M 0 3 \r\nC 0.795609 3 1.55874 2.683901 2.12132 2.12132 \r\nC 2.683901 1.55874 3 0.795609 3 0 \r\nC 3 -0.795609 2.683901 -1.55874 2.12132 -2.12132 \r\nC 1.55874 -2.683901 0.795609 -3 0 -3 \r\nC -0.795609 -3 -1.55874 -2.683901 -2.12132 -2.12132 \r\nC -2.683901 -1.55874 -3 -0.795609 -3 0 \r\nC -3 0.795609 -2.683901 1.55874 -2.12132 2.12132 \r\nC -1.55874 2.683901 -0.795609 3 0 3 \r\nz\r\n\" id=\"m87165bcc58\" style=\"stroke:#1f77b4;\"/>\r\n    </defs>\r\n    <g clip-path=\"url(#p883a4deb1d)\">\r\n     <use style=\"fill:#1f77b4;stroke:#1f77b4;\" x=\"215.400157\" xlink:href=\"#m87165bcc58\" y=\"149.275267\"/>\r\n     <use style=\"fill:#1f77b4;stroke:#1f77b4;\" x=\"207.640741\" xlink:href=\"#m87165bcc58\" y=\"189.515117\"/>\r\n     <use style=\"fill:#1f77b4;stroke:#1f77b4;\" x=\"191.114113\" xlink:href=\"#m87165bcc58\" y=\"200.583695\"/>\r\n     <use style=\"fill:#1f77b4;stroke:#1f77b4;\" x=\"186.246879\" xlink:href=\"#m87165bcc58\" y=\"199.3234\"/>\r\n     <use style=\"fill:#1f77b4;stroke:#1f77b4;\" x=\"248.098774\" xlink:href=\"#m87165bcc58\" y=\"201.791351\"/>\r\n     <use style=\"fill:#1f77b4;stroke:#1f77b4;\" x=\"192.761946\" xlink:href=\"#m87165bcc58\" y=\"189.483494\"/>\r\n     <use style=\"fill:#1f77b4;stroke:#1f77b4;\" x=\"195.423457\" xlink:href=\"#m87165bcc58\" y=\"145.959708\"/>\r\n     <use style=\"fill:#1f77b4;stroke:#1f77b4;\" x=\"187.723252\" xlink:href=\"#m87165bcc58\" y=\"181.389251\"/>\r\n     <use style=\"fill:#1f77b4;stroke:#1f77b4;\" x=\"256.942181\" xlink:href=\"#m87165bcc58\" y=\"141.423824\"/>\r\n     <use style=\"fill:#1f77b4;stroke:#1f77b4;\" x=\"253.002709\" xlink:href=\"#m87165bcc58\" y=\"164.699065\"/>\r\n     <use style=\"fill:#1f77b4;stroke:#1f77b4;\" x=\"204.493511\" xlink:href=\"#m87165bcc58\" y=\"110.668153\"/>\r\n     <use style=\"fill:#1f77b4;stroke:#1f77b4;\" x=\"180.948581\" xlink:href=\"#m87165bcc58\" y=\"182.986162\"/>\r\n     <use style=\"fill:#1f77b4;stroke:#1f77b4;\" x=\"176.015327\" xlink:href=\"#m87165bcc58\" y=\"155.929956\"/>\r\n     <use style=\"fill:#1f77b4;stroke:#1f77b4;\" x=\"172.225946\" xlink:href=\"#m87165bcc58\" y=\"155.1012\"/>\r\n     <use style=\"fill:#1f77b4;stroke:#1f77b4;\" x=\"169.430133\" xlink:href=\"#m87165bcc58\" y=\"156.228677\"/>\r\n     <use style=\"fill:#1f77b4;stroke:#1f77b4;\" x=\"193.280952\" xlink:href=\"#m87165bcc58\" y=\"166.538602\"/>\r\n     <use style=\"fill:#1f77b4;stroke:#1f77b4;\" x=\"180.35325\" xlink:href=\"#m87165bcc58\" y=\"182.2869\"/>\r\n     <use style=\"fill:#1f77b4;stroke:#1f77b4;\" x=\"233.597668\" xlink:href=\"#m87165bcc58\" y=\"206.649398\"/>\r\n     <use style=\"fill:#1f77b4;stroke:#1f77b4;\" x=\"205.722755\" xlink:href=\"#m87165bcc58\" y=\"229.874489\"/>\r\n     <use style=\"fill:#1f77b4;stroke:#1f77b4;\" x=\"136.075042\" xlink:href=\"#m87165bcc58\" y=\"144.483126\"/>\r\n     <use style=\"fill:#1f77b4;stroke:#1f77b4;\" x=\"179.487016\" xlink:href=\"#m87165bcc58\" y=\"128.310982\"/>\r\n     <use style=\"fill:#1f77b4;stroke:#1f77b4;\" x=\"179.692889\" xlink:href=\"#m87165bcc58\" y=\"155.326759\"/>\r\n     <use style=\"fill:#1f77b4;stroke:#1f77b4;\" x=\"239.641242\" xlink:href=\"#m87165bcc58\" y=\"208.267274\"/>\r\n     <use style=\"fill:#1f77b4;stroke:#1f77b4;\" x=\"119.474157\" xlink:href=\"#m87165bcc58\" y=\"192.062814\"/>\r\n     <use style=\"fill:#1f77b4;stroke:#1f77b4;\" x=\"208.450383\" xlink:href=\"#m87165bcc58\" y=\"149.809333\"/>\r\n     <use style=\"fill:#1f77b4;stroke:#1f77b4;\" x=\"244.153486\" xlink:href=\"#m87165bcc58\" y=\"180.350955\"/>\r\n     <use style=\"fill:#1f77b4;stroke:#1f77b4;\" x=\"146.412445\" xlink:href=\"#m87165bcc58\" y=\"143.461028\"/>\r\n     <use style=\"fill:#1f77b4;stroke:#1f77b4;\" x=\"137.928284\" xlink:href=\"#m87165bcc58\" y=\"149.658637\"/>\r\n     <use style=\"fill:#1f77b4;stroke:#1f77b4;\" x=\"185.661826\" xlink:href=\"#m87165bcc58\" y=\"164.994574\"/>\r\n     <use style=\"fill:#1f77b4;stroke:#1f77b4;\" x=\"158.884919\" xlink:href=\"#m87165bcc58\" y=\"130.841556\"/>\r\n     <use style=\"fill:#1f77b4;stroke:#1f77b4;\" x=\"153.891528\" xlink:href=\"#m87165bcc58\" y=\"182.918548\"/>\r\n     <use style=\"fill:#1f77b4;stroke:#1f77b4;\" x=\"219.806385\" xlink:href=\"#m87165bcc58\" y=\"131.432\"/>\r\n     <use style=\"fill:#1f77b4;stroke:#1f77b4;\" x=\"180.695002\" xlink:href=\"#m87165bcc58\" y=\"107.768799\"/>\r\n     <use style=\"fill:#1f77b4;stroke:#1f77b4;\" x=\"179.860829\" xlink:href=\"#m87165bcc58\" y=\"163.433904\"/>\r\n     <use style=\"fill:#1f77b4;stroke:#1f77b4;\" x=\"212.954758\" xlink:href=\"#m87165bcc58\" y=\"161.420952\"/>\r\n     <use style=\"fill:#1f77b4;stroke:#1f77b4;\" x=\"242.653451\" xlink:href=\"#m87165bcc58\" y=\"180.349359\"/>\r\n     <use style=\"fill:#1f77b4;stroke:#1f77b4;\" x=\"239.801288\" xlink:href=\"#m87165bcc58\" y=\"137.510186\"/>\r\n     <use style=\"fill:#1f77b4;stroke:#1f77b4;\" x=\"273.115543\" xlink:href=\"#m87165bcc58\" y=\"171.800004\"/>\r\n     <use style=\"fill:#1f77b4;stroke:#1f77b4;\" x=\"203.769963\" xlink:href=\"#m87165bcc58\" y=\"152.884073\"/>\r\n     <use style=\"fill:#1f77b4;stroke:#1f77b4;\" x=\"181.995454\" xlink:href=\"#m87165bcc58\" y=\"120.024906\"/>\r\n     <use style=\"fill:#1f77b4;stroke:#1f77b4;\" x=\"167.368861\" xlink:href=\"#m87165bcc58\" y=\"182.072482\"/>\r\n     <use style=\"fill:#1f77b4;stroke:#1f77b4;\" x=\"167.281973\" xlink:href=\"#m87165bcc58\" y=\"185.605347\"/>\r\n     <use style=\"fill:#1f77b4;stroke:#1f77b4;\" x=\"159.561602\" xlink:href=\"#m87165bcc58\" y=\"209.257412\"/>\r\n     <use style=\"fill:#1f77b4;stroke:#1f77b4;\" x=\"225.466762\" xlink:href=\"#m87165bcc58\" y=\"116.885169\"/>\r\n     <use style=\"fill:#1f77b4;stroke:#1f77b4;\" x=\"219.121472\" xlink:href=\"#m87165bcc58\" y=\"174.229656\"/>\r\n     <use style=\"fill:#1f77b4;stroke:#1f77b4;\" x=\"172.638712\" xlink:href=\"#m87165bcc58\" y=\"188.037756\"/>\r\n     <use style=\"fill:#1f77b4;stroke:#1f77b4;\" x=\"224.37933\" xlink:href=\"#m87165bcc58\" y=\"182.553191\"/>\r\n     <use style=\"fill:#1f77b4;stroke:#1f77b4;\" x=\"210.013669\" xlink:href=\"#m87165bcc58\" y=\"165.426875\"/>\r\n     <use style=\"fill:#1f77b4;stroke:#1f77b4;\" x=\"200.308001\" xlink:href=\"#m87165bcc58\" y=\"163.107566\"/>\r\n     <use style=\"fill:#1f77b4;stroke:#1f77b4;\" x=\"202.354065\" xlink:href=\"#m87165bcc58\" y=\"151.321372\"/>\r\n     <use style=\"fill:#1f77b4;stroke:#1f77b4;\" x=\"190.973933\" xlink:href=\"#m87165bcc58\" y=\"135.230473\"/>\r\n     <use style=\"fill:#1f77b4;stroke:#1f77b4;\" x=\"224.726649\" xlink:href=\"#m87165bcc58\" y=\"120.123857\"/>\r\n     <use style=\"fill:#1f77b4;stroke:#1f77b4;\" x=\"182.75436\" xlink:href=\"#m87165bcc58\" y=\"102.291337\"/>\r\n     <use style=\"fill:#1f77b4;stroke:#1f77b4;\" x=\"185.51805\" xlink:href=\"#m87165bcc58\" y=\"156.672028\"/>\r\n     <use style=\"fill:#1f77b4;stroke:#1f77b4;\" x=\"189.992726\" xlink:href=\"#m87165bcc58\" y=\"146.128929\"/>\r\n     <use style=\"fill:#1f77b4;stroke:#1f77b4;\" x=\"203.35932\" xlink:href=\"#m87165bcc58\" y=\"150.057391\"/>\r\n     <use style=\"fill:#1f77b4;stroke:#1f77b4;\" x=\"193.576692\" xlink:href=\"#m87165bcc58\" y=\"170.156181\"/>\r\n     <use style=\"fill:#1f77b4;stroke:#1f77b4;\" x=\"210.580939\" xlink:href=\"#m87165bcc58\" y=\"215.761072\"/>\r\n     <use style=\"fill:#1f77b4;stroke:#1f77b4;\" x=\"223.167247\" xlink:href=\"#m87165bcc58\" y=\"173.579469\"/>\r\n     <use style=\"fill:#1f77b4;stroke:#1f77b4;\" x=\"120.76086\" xlink:href=\"#m87165bcc58\" y=\"160.390669\"/>\r\n     <use style=\"fill:#1f77b4;stroke:#1f77b4;\" x=\"98.400062\" xlink:href=\"#m87165bcc58\" y=\"178.753266\"/>\r\n     <use style=\"fill:#1f77b4;stroke:#1f77b4;\" x=\"97.591358\" xlink:href=\"#m87165bcc58\" y=\"208.064987\"/>\r\n     <use style=\"fill:#1f77b4;stroke:#1f77b4;\" x=\"131.846716\" xlink:href=\"#m87165bcc58\" y=\"191.670702\"/>\r\n     <use style=\"fill:#1f77b4;stroke:#1f77b4;\" x=\"151.456651\" xlink:href=\"#m87165bcc58\" y=\"134.531249\"/>\r\n     <use style=\"fill:#1f77b4;stroke:#1f77b4;\" x=\"143.832829\" xlink:href=\"#m87165bcc58\" y=\"193.325836\"/>\r\n     <use style=\"fill:#1f77b4;stroke:#1f77b4;\" x=\"147.53598\" xlink:href=\"#m87165bcc58\" y=\"197.158625\"/>\r\n     <use style=\"fill:#1f77b4;stroke:#1f77b4;\" x=\"191.612191\" xlink:href=\"#m87165bcc58\" y=\"173.337681\"/>\r\n     <use style=\"fill:#1f77b4;stroke:#1f77b4;\" x=\"179.621566\" xlink:href=\"#m87165bcc58\" y=\"149.65363\"/>\r\n     <use style=\"fill:#1f77b4;stroke:#1f77b4;\" x=\"187.47573\" xlink:href=\"#m87165bcc58\" y=\"172.260329\"/>\r\n     <use style=\"fill:#1f77b4;stroke:#1f77b4;\" x=\"129.612112\" xlink:href=\"#m87165bcc58\" y=\"119.71542\"/>\r\n     <use style=\"fill:#1f77b4;stroke:#1f77b4;\" x=\"276.38448\" xlink:href=\"#m87165bcc58\" y=\"91.999716\"/>\r\n     <use style=\"fill:#1f77b4;stroke:#1f77b4;\" x=\"250.723171\" xlink:href=\"#m87165bcc58\" y=\"86.310629\"/>\r\n     <use style=\"fill:#1f77b4;stroke:#1f77b4;\" x=\"265.660255\" xlink:href=\"#m87165bcc58\" y=\"104.231991\"/>\r\n     <use style=\"fill:#1f77b4;stroke:#1f77b4;\" x=\"328.551998\" xlink:href=\"#m87165bcc58\" y=\"155.144227\"/>\r\n     <use style=\"fill:#1f77b4;stroke:#1f77b4;\" x=\"256.339326\" xlink:href=\"#m87165bcc58\" y=\"114.469723\"/>\r\n     <use style=\"fill:#1f77b4;stroke:#1f77b4;\" x=\"244.199594\" xlink:href=\"#m87165bcc58\" y=\"86.126053\"/>\r\n     <use style=\"fill:#1f77b4;stroke:#1f77b4;\" x=\"257.12569\" xlink:href=\"#m87165bcc58\" y=\"91.482494\"/>\r\n     <use style=\"fill:#1f77b4;stroke:#1f77b4;\" x=\"350.998501\" xlink:href=\"#m87165bcc58\" y=\"71.283196\"/>\r\n     <use style=\"fill:#1f77b4;stroke:#1f77b4;\" x=\"309.280061\" xlink:href=\"#m87165bcc58\" y=\"70.223568\"/>\r\n     <use style=\"fill:#1f77b4;stroke:#1f77b4;\" x=\"263.597144\" xlink:href=\"#m87165bcc58\" y=\"150.38732\"/>\r\n     <use style=\"fill:#1f77b4;stroke:#1f77b4;\" x=\"243.163863\" xlink:href=\"#m87165bcc58\" y=\"99.897712\"/>\r\n     <use style=\"fill:#1f77b4;stroke:#1f77b4;\" x=\"305.962601\" xlink:href=\"#m87165bcc58\" y=\"110.932198\"/>\r\n     <use style=\"fill:#1f77b4;stroke:#1f77b4;\" x=\"336.609054\" xlink:href=\"#m87165bcc58\" y=\"87.550273\"/>\r\n     <use style=\"fill:#1f77b4;stroke:#1f77b4;\" x=\"331.555374\" xlink:href=\"#m87165bcc58\" y=\"132.990393\"/>\r\n     <use style=\"fill:#1f77b4;stroke:#1f77b4;\" x=\"328.475124\" xlink:href=\"#m87165bcc58\" y=\"110.320805\"/>\r\n     <use style=\"fill:#1f77b4;stroke:#1f77b4;\" x=\"297.997256\" xlink:href=\"#m87165bcc58\" y=\"138.95533\"/>\r\n     <use style=\"fill:#1f77b4;stroke:#1f77b4;\" x=\"313.484135\" xlink:href=\"#m87165bcc58\" y=\"164.744851\"/>\r\n     <use style=\"fill:#1f77b4;stroke:#1f77b4;\" x=\"314.850181\" xlink:href=\"#m87165bcc58\" y=\"71.624641\"/>\r\n     <use style=\"fill:#1f77b4;stroke:#1f77b4;\" x=\"371.742756\" xlink:href=\"#m87165bcc58\" y=\"75.990534\"/>\r\n     <use style=\"fill:#1f77b4;stroke:#1f77b4;\" x=\"365.311272\" xlink:href=\"#m87165bcc58\" y=\"98.714121\"/>\r\n     <use style=\"fill:#1f77b4;stroke:#1f77b4;\" x=\"345.575481\" xlink:href=\"#m87165bcc58\" y=\"112.284846\"/>\r\n     <use style=\"fill:#1f77b4;stroke:#1f77b4;\" x=\"314.256114\" xlink:href=\"#m87165bcc58\" y=\"140.420309\"/>\r\n     <use style=\"fill:#1f77b4;stroke:#1f77b4;\" x=\"311.073996\" xlink:href=\"#m87165bcc58\" y=\"124.570493\"/>\r\n     <use style=\"fill:#1f77b4;stroke:#1f77b4;\" x=\"306.017608\" xlink:href=\"#m87165bcc58\" y=\"109.240464\"/>\r\n     <use style=\"fill:#1f77b4;stroke:#1f77b4;\" x=\"294.490283\" xlink:href=\"#m87165bcc58\" y=\"32.201761\"/>\r\n     <use style=\"fill:#1f77b4;stroke:#1f77b4;\" x=\"257.836748\" xlink:href=\"#m87165bcc58\" y=\"99.518582\"/>\r\n     <use style=\"fill:#1f77b4;stroke:#1f77b4;\" x=\"324.824204\" xlink:href=\"#m87165bcc58\" y=\"107.780454\"/>\r\n     <use style=\"fill:#1f77b4;stroke:#1f77b4;\" x=\"309.929857\" xlink:href=\"#m87165bcc58\" y=\"108.989362\"/>\r\n     <use style=\"fill:#1f77b4;stroke:#1f77b4;\" x=\"286.499018\" xlink:href=\"#m87165bcc58\" y=\"101.613266\"/>\r\n     <use style=\"fill:#1f77b4;stroke:#1f77b4;\" x=\"307.255435\" xlink:href=\"#m87165bcc58\" y=\"133.286661\"/>\r\n     <use style=\"fill:#1f77b4;stroke:#1f77b4;\" x=\"242.336136\" xlink:href=\"#m87165bcc58\" y=\"133.026857\"/>\r\n     <use style=\"fill:#1f77b4;stroke:#1f77b4;\" x=\"289.079513\" xlink:href=\"#m87165bcc58\" y=\"170.432381\"/>\r\n     <use style=\"fill:#1f77b4;stroke:#1f77b4;\" x=\"324.937803\" xlink:href=\"#m87165bcc58\" y=\"121.543746\"/>\r\n     <use style=\"fill:#1f77b4;stroke:#1f77b4;\" x=\"315.040685\" xlink:href=\"#m87165bcc58\" y=\"96.527604\"/>\r\n     <use style=\"fill:#1f77b4;stroke:#1f77b4;\" x=\"313.550751\" xlink:href=\"#m87165bcc58\" y=\"115.22871\"/>\r\n     <use style=\"fill:#1f77b4;stroke:#1f77b4;\" x=\"309.177422\" xlink:href=\"#m87165bcc58\" y=\"146.623745\"/>\r\n     <use style=\"fill:#1f77b4;stroke:#1f77b4;\" x=\"317.508554\" xlink:href=\"#m87165bcc58\" y=\"153.240892\"/>\r\n     <use style=\"fill:#1f77b4;stroke:#1f77b4;\" x=\"274.511262\" xlink:href=\"#m87165bcc58\" y=\"117.039426\"/>\r\n     <use style=\"fill:#1f77b4;stroke:#1f77b4;\" x=\"343.168741\" xlink:href=\"#m87165bcc58\" y=\"88.915845\"/>\r\n     <use style=\"fill:#1f77b4;stroke:#1f77b4;\" x=\"303.966906\" xlink:href=\"#m87165bcc58\" y=\"149.568073\"/>\r\n     <use style=\"fill:#1f77b4;stroke:#1f77b4;\" x=\"306.141095\" xlink:href=\"#m87165bcc58\" y=\"151.298168\"/>\r\n     <use style=\"fill:#1f77b4;stroke:#1f77b4;\" x=\"320.812799\" xlink:href=\"#m87165bcc58\" y=\"94.351299\"/>\r\n     <use style=\"fill:#1f77b4;stroke:#1f77b4;\" x=\"329.067226\" xlink:href=\"#m87165bcc58\" y=\"161.979531\"/>\r\n     <use style=\"fill:#1f77b4;stroke:#1f77b4;\" x=\"306.578914\" xlink:href=\"#m87165bcc58\" y=\"48.06807\"/>\r\n     <use style=\"fill:#1f77b4;stroke:#1f77b4;\" x=\"365.528752\" xlink:href=\"#m87165bcc58\" y=\"80.309223\"/>\r\n     <use style=\"fill:#1f77b4;stroke:#1f77b4;\" x=\"322.569555\" xlink:href=\"#m87165bcc58\" y=\"129.031652\"/>\r\n     <use style=\"fill:#1f77b4;stroke:#1f77b4;\" x=\"317.652315\" xlink:href=\"#m87165bcc58\" y=\"135.8401\"/>\r\n     <use style=\"fill:#1f77b4;stroke:#1f77b4;\" x=\"321.597992\" xlink:href=\"#m87165bcc58\" y=\"126.62265\"/>\r\n     <use style=\"fill:#1f77b4;stroke:#1f77b4;\" x=\"316.158628\" xlink:href=\"#m87165bcc58\" y=\"131.629461\"/>\r\n     <use style=\"fill:#1f77b4;stroke:#1f77b4;\" x=\"344.33294\" xlink:href=\"#m87165bcc58\" y=\"106.01392\"/>\r\n     <use style=\"fill:#1f77b4;stroke:#1f77b4;\" x=\"342.372424\" xlink:href=\"#m87165bcc58\" y=\"76.343393\"/>\r\n     <use style=\"fill:#1f77b4;stroke:#1f77b4;\" x=\"282.185758\" xlink:href=\"#m87165bcc58\" y=\"112.434256\"/>\r\n     <use style=\"fill:#1f77b4;stroke:#1f77b4;\" x=\"226.152306\" xlink:href=\"#m87165bcc58\" y=\"99.062448\"/>\r\n     <use style=\"fill:#1f77b4;stroke:#1f77b4;\" x=\"303.12206\" xlink:href=\"#m87165bcc58\" y=\"160.793508\"/>\r\n     <use style=\"fill:#1f77b4;stroke:#1f77b4;\" x=\"232.188709\" xlink:href=\"#m87165bcc58\" y=\"184.471304\"/>\r\n     <use style=\"fill:#1f77b4;stroke:#1f77b4;\" x=\"313.887347\" xlink:href=\"#m87165bcc58\" y=\"128.122616\"/>\r\n     <use style=\"fill:#1f77b4;stroke:#1f77b4;\" x=\"296.66183\" xlink:href=\"#m87165bcc58\" y=\"81.837043\"/>\r\n     <use style=\"fill:#1f77b4;stroke:#1f77b4;\" x=\"291.510371\" xlink:href=\"#m87165bcc58\" y=\"164.279695\"/>\r\n     <use style=\"fill:#1f77b4;stroke:#1f77b4;\" x=\"343.087863\" xlink:href=\"#m87165bcc58\" y=\"113.720351\"/>\r\n     <use style=\"fill:#1f77b4;stroke:#1f77b4;\" x=\"271.668851\" xlink:href=\"#m87165bcc58\" y=\"122.401435\"/>\r\n     <use style=\"fill:#1f77b4;stroke:#1f77b4;\" x=\"301.406805\" xlink:href=\"#m87165bcc58\" y=\"166.931717\"/>\r\n     <use style=\"fill:#1f77b4;stroke:#1f77b4;\" x=\"316.927582\" xlink:href=\"#m87165bcc58\" y=\"139.85261\"/>\r\n     <use style=\"fill:#1f77b4;stroke:#1f77b4;\" x=\"214.678528\" xlink:href=\"#m87165bcc58\" y=\"106.830199\"/>\r\n     <use style=\"fill:#1f77b4;stroke:#1f77b4;\" x=\"231.030164\" xlink:href=\"#m87165bcc58\" y=\"102.689592\"/>\r\n     <use style=\"fill:#1f77b4;stroke:#1f77b4;\" x=\"222.765465\" xlink:href=\"#m87165bcc58\" y=\"116.419742\"/>\r\n     <use style=\"fill:#1f77b4;stroke:#1f77b4;\" x=\"218.51229\" xlink:href=\"#m87165bcc58\" y=\"169.330115\"/>\r\n     <use style=\"fill:#1f77b4;stroke:#1f77b4;\" x=\"275.111275\" xlink:href=\"#m87165bcc58\" y=\"116.300605\"/>\r\n     <use style=\"fill:#1f77b4;stroke:#1f77b4;\" x=\"216.538699\" xlink:href=\"#m87165bcc58\" y=\"114.062393\"/>\r\n     <use style=\"fill:#1f77b4;stroke:#1f77b4;\" x=\"217.589186\" xlink:href=\"#m87165bcc58\" y=\"122.370736\"/>\r\n     <use style=\"fill:#1f77b4;stroke:#1f77b4;\" x=\"243.165879\" xlink:href=\"#m87165bcc58\" y=\"133.139535\"/>\r\n     <use style=\"fill:#1f77b4;stroke:#1f77b4;\" x=\"140.507416\" xlink:href=\"#m87165bcc58\" y=\"91.099509\"/>\r\n     <use style=\"fill:#1f77b4;stroke:#1f77b4;\" x=\"151.087658\" xlink:href=\"#m87165bcc58\" y=\"74.896188\"/>\r\n     <use style=\"fill:#1f77b4;stroke:#1f77b4;\" x=\"148.055813\" xlink:href=\"#m87165bcc58\" y=\"97.813445\"/>\r\n     <use style=\"fill:#1f77b4;stroke:#1f77b4;\" x=\"119.602547\" xlink:href=\"#m87165bcc58\" y=\"120.176605\"/>\r\n     <use style=\"fill:#1f77b4;stroke:#1f77b4;\" x=\"98.780738\" xlink:href=\"#m87165bcc58\" y=\"91.431745\"/>\r\n     <use style=\"fill:#1f77b4;stroke:#1f77b4;\" x=\"76.035758\" xlink:href=\"#m87165bcc58\" y=\"55.631058\"/>\r\n     <use style=\"fill:#1f77b4;stroke:#1f77b4;\" x=\"89.991914\" xlink:href=\"#m87165bcc58\" y=\"140.787191\"/>\r\n     <use style=\"fill:#1f77b4;stroke:#1f77b4;\" x=\"127.926348\" xlink:href=\"#m87165bcc58\" y=\"134.824452\"/>\r\n     <use style=\"fill:#1f77b4;stroke:#1f77b4;\" x=\"131.146769\" xlink:href=\"#m87165bcc58\" y=\"129.264537\"/>\r\n     <use style=\"fill:#1f77b4;stroke:#1f77b4;\" x=\"68.193059\" xlink:href=\"#m87165bcc58\" y=\"61.117707\"/>\r\n     <use style=\"fill:#1f77b4;stroke:#1f77b4;\" x=\"104.454317\" xlink:href=\"#m87165bcc58\" y=\"106.484739\"/>\r\n     <use style=\"fill:#1f77b4;stroke:#1f77b4;\" x=\"99.398755\" xlink:href=\"#m87165bcc58\" y=\"43.497485\"/>\r\n     <use style=\"fill:#1f77b4;stroke:#1f77b4;\" x=\"113.599276\" xlink:href=\"#m87165bcc58\" y=\"88.247488\"/>\r\n     <use style=\"fill:#1f77b4;stroke:#1f77b4;\" x=\"82.030481\" xlink:href=\"#m87165bcc58\" y=\"114.748987\"/>\r\n     <use style=\"fill:#1f77b4;stroke:#1f77b4;\" x=\"88.093609\" xlink:href=\"#m87165bcc58\" y=\"117.249184\"/>\r\n     <use style=\"fill:#1f77b4;stroke:#1f77b4;\" x=\"76.790834\" xlink:href=\"#m87165bcc58\" y=\"71.679794\"/>\r\n     <use style=\"fill:#1f77b4;stroke:#1f77b4;\" x=\"95.02525\" xlink:href=\"#m87165bcc58\" y=\"157.767873\"/>\r\n     <use style=\"fill:#1f77b4;stroke:#1f77b4;\" x=\"99.748816\" xlink:href=\"#m87165bcc58\" y=\"59.632482\"/>\r\n     <use style=\"fill:#1f77b4;stroke:#1f77b4;\" x=\"92.710732\" xlink:href=\"#m87165bcc58\" y=\"66.281698\"/>\r\n     <use style=\"fill:#1f77b4;stroke:#1f77b4;\" x=\"86.200224\" xlink:href=\"#m87165bcc58\" y=\"76.288264\"/>\r\n     <use style=\"fill:#1f77b4;stroke:#1f77b4;\" x=\"127.92515\" xlink:href=\"#m87165bcc58\" y=\"123.113633\"/>\r\n     <use style=\"fill:#1f77b4;stroke:#1f77b4;\" x=\"111.347765\" xlink:href=\"#m87165bcc58\" y=\"117.595546\"/>\r\n     <use style=\"fill:#1f77b4;stroke:#1f77b4;\" x=\"106.970535\" xlink:href=\"#m87165bcc58\" y=\"99.947139\"/>\r\n     <use style=\"fill:#1f77b4;stroke:#1f77b4;\" x=\"128.983159\" xlink:href=\"#m87165bcc58\" y=\"121.378221\"/>\r\n     <use style=\"fill:#1f77b4;stroke:#1f77b4;\" x=\"79.871306\" xlink:href=\"#m87165bcc58\" y=\"105.99856\"/>\r\n     <use style=\"fill:#1f77b4;stroke:#1f77b4;\" x=\"122.046313\" xlink:href=\"#m87165bcc58\" y=\"192.942627\"/>\r\n     <use style=\"fill:#1f77b4;stroke:#1f77b4;\" x=\"119.391353\" xlink:href=\"#m87165bcc58\" y=\"102.719103\"/>\r\n     <use style=\"fill:#1f77b4;stroke:#1f77b4;\" x=\"117.367569\" xlink:href=\"#m87165bcc58\" y=\"118.695683\"/>\r\n     <use style=\"fill:#1f77b4;stroke:#1f77b4;\" x=\"80.386305\" xlink:href=\"#m87165bcc58\" y=\"101.292176\"/>\r\n     <use style=\"fill:#1f77b4;stroke:#1f77b4;\" x=\"81.16615\" xlink:href=\"#m87165bcc58\" y=\"126.380964\"/>\r\n     <use style=\"fill:#1f77b4;stroke:#1f77b4;\" x=\"74.699841\" xlink:href=\"#m87165bcc58\" y=\"48.541524\"/>\r\n     <use style=\"fill:#1f77b4;stroke:#1f77b4;\" x=\"92.172595\" xlink:href=\"#m87165bcc58\" y=\"82.488911\"/>\r\n     <use style=\"fill:#1f77b4;stroke:#1f77b4;\" x=\"84.087005\" xlink:href=\"#m87165bcc58\" y=\"120.752072\"/>\r\n     <use style=\"fill:#1f77b4;stroke:#1f77b4;\" x=\"84.366814\" xlink:href=\"#m87165bcc58\" y=\"92.754367\"/>\r\n     <use style=\"fill:#1f77b4;stroke:#1f77b4;\" x=\"67.379119\" xlink:href=\"#m87165bcc58\" y=\"65.833547\"/>\r\n     <use style=\"fill:#1f77b4;stroke:#1f77b4;\" x=\"78.667112\" xlink:href=\"#m87165bcc58\" y=\"139.161276\"/>\r\n     <use style=\"fill:#1f77b4;stroke:#1f77b4;\" x=\"80.963555\" xlink:href=\"#m87165bcc58\" y=\"92.915862\"/>\r\n     <use style=\"fill:#1f77b4;stroke:#1f77b4;\" x=\"67.585286\" xlink:href=\"#m87165bcc58\" y=\"103.76908\"/>\r\n     <use style=\"fill:#1f77b4;stroke:#1f77b4;\" x=\"88.969465\" xlink:href=\"#m87165bcc58\" y=\"96.569288\"/>\r\n     <use style=\"fill:#1f77b4;stroke:#1f77b4;\" x=\"123.400177\" xlink:href=\"#m87165bcc58\" y=\"154.618752\"/>\r\n     <use style=\"fill:#1f77b4;stroke:#1f77b4;\" x=\"89.493034\" xlink:href=\"#m87165bcc58\" y=\"124.726931\"/>\r\n     <use style=\"fill:#1f77b4;stroke:#1f77b4;\" x=\"129.085692\" xlink:href=\"#m87165bcc58\" y=\"132.876581\"/>\r\n     <use style=\"fill:#1f77b4;stroke:#1f77b4;\" x=\"115.975903\" xlink:href=\"#m87165bcc58\" y=\"120.882849\"/>\r\n     <use style=\"fill:#1f77b4;stroke:#1f77b4;\" x=\"98.079214\" xlink:href=\"#m87165bcc58\" y=\"121.481412\"/>\r\n     <use style=\"fill:#1f77b4;stroke:#1f77b4;\" x=\"139.842861\" xlink:href=\"#m87165bcc58\" y=\"84.130795\"/>\r\n     <use style=\"fill:#1f77b4;stroke:#1f77b4;\" x=\"90.085671\" xlink:href=\"#m87165bcc58\" y=\"88.099329\"/>\r\n     <use style=\"fill:#1f77b4;stroke:#1f77b4;\" x=\"96.209089\" xlink:href=\"#m87165bcc58\" y=\"71.855165\"/>\r\n     <use style=\"fill:#1f77b4;stroke:#1f77b4;\" x=\"72.317429\" xlink:href=\"#m87165bcc58\" y=\"118.444117\"/>\r\n     <use style=\"fill:#1f77b4;stroke:#1f77b4;\" x=\"84.492367\" xlink:href=\"#m87165bcc58\" y=\"88.54356\"/>\r\n     <use style=\"fill:#1f77b4;stroke:#1f77b4;\" x=\"71.263106\" xlink:href=\"#m87165bcc58\" y=\"145.696587\"/>\r\n     <use style=\"fill:#1f77b4;stroke:#1f77b4;\" x=\"71.316344\" xlink:href=\"#m87165bcc58\" y=\"102.632287\"/>\r\n     <use style=\"fill:#1f77b4;stroke:#1f77b4;\" x=\"90.75723\" xlink:href=\"#m87165bcc58\" y=\"142.13381\"/>\r\n     <use style=\"fill:#1f77b4;stroke:#1f77b4;\" x=\"117.101128\" xlink:href=\"#m87165bcc58\" y=\"171.032485\"/>\r\n     <use style=\"fill:#1f77b4;stroke:#1f77b4;\" x=\"67.424462\" xlink:href=\"#m87165bcc58\" y=\"91.537553\"/>\r\n     <use style=\"fill:#1f77b4;stroke:#1f77b4;\" x=\"121.157993\" xlink:href=\"#m87165bcc58\" y=\"140.801942\"/>\r\n     <use style=\"fill:#1f77b4;stroke:#1f77b4;\" x=\"141.69988\" xlink:href=\"#m87165bcc58\" y=\"153.986754\"/>\r\n     <use style=\"fill:#1f77b4;stroke:#1f77b4;\" x=\"137.039136\" xlink:href=\"#m87165bcc58\" y=\"132.637643\"/>\r\n     <use style=\"fill:#1f77b4;stroke:#1f77b4;\" x=\"157.208728\" xlink:href=\"#m87165bcc58\" y=\"147.31925\"/>\r\n     <use style=\"fill:#1f77b4;stroke:#1f77b4;\" x=\"130.351254\" xlink:href=\"#m87165bcc58\" y=\"127.060584\"/>\r\n     <use style=\"fill:#1f77b4;stroke:#1f77b4;\" x=\"146.357062\" xlink:href=\"#m87165bcc58\" y=\"202.139596\"/>\r\n     <use style=\"fill:#1f77b4;stroke:#1f77b4;\" x=\"122.134987\" xlink:href=\"#m87165bcc58\" y=\"115.118742\"/>\r\n     <use style=\"fill:#1f77b4;stroke:#1f77b4;\" x=\"141.792422\" xlink:href=\"#m87165bcc58\" y=\"215.467936\"/>\r\n     <use style=\"fill:#1f77b4;stroke:#1f77b4;\" x=\"89.269791\" xlink:href=\"#m87165bcc58\" y=\"157.232188\"/>\r\n     <use style=\"fill:#1f77b4;stroke:#1f77b4;\" x=\"132.030704\" xlink:href=\"#m87165bcc58\" y=\"96.453712\"/>\r\n     <use style=\"fill:#1f77b4;stroke:#1f77b4;\" x=\"122.020272\" xlink:href=\"#m87165bcc58\" y=\"135.895025\"/>\r\n     <use style=\"fill:#1f77b4;stroke:#1f77b4;\" x=\"123.610541\" xlink:href=\"#m87165bcc58\" y=\"167.693576\"/>\r\n     <use style=\"fill:#1f77b4;stroke:#1f77b4;\" x=\"89.50443\" xlink:href=\"#m87165bcc58\" y=\"129.315024\"/>\r\n     <use style=\"fill:#1f77b4;stroke:#1f77b4;\" x=\"150.221479\" xlink:href=\"#m87165bcc58\" y=\"97.427089\"/>\r\n     <use style=\"fill:#1f77b4;stroke:#1f77b4;\" x=\"104.869934\" xlink:href=\"#m87165bcc58\" y=\"138.171759\"/>\r\n     <use style=\"fill:#1f77b4;stroke:#1f77b4;\" x=\"122.487971\" xlink:href=\"#m87165bcc58\" y=\"119.891719\"/>\r\n    </g>\r\n   </g>\r\n   <g id=\"matplotlib.axis_1\">\r\n    <g id=\"xtick_1\">\r\n     <g id=\"line2d_1\">\r\n      <defs>\r\n       <path d=\"M 0 0 \r\nL 0 3.5 \r\n\" id=\"me72fc9ebad\" style=\"stroke:#000000;stroke-width:0.8;\"/>\r\n      </defs>\r\n      <g>\r\n       <use style=\"stroke:#000000;stroke-width:0.8;\" x=\"78.229945\" xlink:href=\"#me72fc9ebad\" y=\"239.758125\"/>\r\n      </g>\r\n     </g>\r\n     <g id=\"text_1\">\r\n      <!-- −0.75 -->\r\n      <g transform=\"translate(62.907288 254.356562)scale(0.1 -0.1)\">\r\n       <defs>\r\n        <path d=\"M 10.59375 35.5 \r\nL 73.1875 35.5 \r\nL 73.1875 27.203125 \r\nL 10.59375 27.203125 \r\nz\r\n\" id=\"DejaVuSans-8722\"/>\r\n        <path d=\"M 31.78125 66.40625 \r\nQ 24.171875 66.40625 20.328125 58.90625 \r\nQ 16.5 51.421875 16.5 36.375 \r\nQ 16.5 21.390625 20.328125 13.890625 \r\nQ 24.171875 6.390625 31.78125 6.390625 \r\nQ 39.453125 6.390625 43.28125 13.890625 \r\nQ 47.125 21.390625 47.125 36.375 \r\nQ 47.125 51.421875 43.28125 58.90625 \r\nQ 39.453125 66.40625 31.78125 66.40625 \r\nz\r\nM 31.78125 74.21875 \r\nQ 44.046875 74.21875 50.515625 64.515625 \r\nQ 56.984375 54.828125 56.984375 36.375 \r\nQ 56.984375 17.96875 50.515625 8.265625 \r\nQ 44.046875 -1.421875 31.78125 -1.421875 \r\nQ 19.53125 -1.421875 13.0625 8.265625 \r\nQ 6.59375 17.96875 6.59375 36.375 \r\nQ 6.59375 54.828125 13.0625 64.515625 \r\nQ 19.53125 74.21875 31.78125 74.21875 \r\nz\r\n\" id=\"DejaVuSans-48\"/>\r\n        <path d=\"M 10.6875 12.40625 \r\nL 21 12.40625 \r\nL 21 0 \r\nL 10.6875 0 \r\nz\r\n\" id=\"DejaVuSans-46\"/>\r\n        <path d=\"M 8.203125 72.90625 \r\nL 55.078125 72.90625 \r\nL 55.078125 68.703125 \r\nL 28.609375 0 \r\nL 18.3125 0 \r\nL 43.21875 64.59375 \r\nL 8.203125 64.59375 \r\nz\r\n\" id=\"DejaVuSans-55\"/>\r\n        <path d=\"M 10.796875 72.90625 \r\nL 49.515625 72.90625 \r\nL 49.515625 64.59375 \r\nL 19.828125 64.59375 \r\nL 19.828125 46.734375 \r\nQ 21.96875 47.46875 24.109375 47.828125 \r\nQ 26.265625 48.1875 28.421875 48.1875 \r\nQ 40.625 48.1875 47.75 41.5 \r\nQ 54.890625 34.8125 54.890625 23.390625 \r\nQ 54.890625 11.625 47.5625 5.09375 \r\nQ 40.234375 -1.421875 26.90625 -1.421875 \r\nQ 22.3125 -1.421875 17.546875 -0.640625 \r\nQ 12.796875 0.140625 7.71875 1.703125 \r\nL 7.71875 11.625 \r\nQ 12.109375 9.234375 16.796875 8.0625 \r\nQ 21.484375 6.890625 26.703125 6.890625 \r\nQ 35.15625 6.890625 40.078125 11.328125 \r\nQ 45.015625 15.765625 45.015625 23.390625 \r\nQ 45.015625 31 40.078125 35.4375 \r\nQ 35.15625 39.890625 26.703125 39.890625 \r\nQ 22.75 39.890625 18.8125 39.015625 \r\nQ 14.890625 38.140625 10.796875 36.28125 \r\nz\r\n\" id=\"DejaVuSans-53\"/>\r\n       </defs>\r\n       <use xlink:href=\"#DejaVuSans-8722\"/>\r\n       <use x=\"83.789062\" xlink:href=\"#DejaVuSans-48\"/>\r\n       <use x=\"147.412109\" xlink:href=\"#DejaVuSans-46\"/>\r\n       <use x=\"179.199219\" xlink:href=\"#DejaVuSans-55\"/>\r\n       <use x=\"242.822266\" xlink:href=\"#DejaVuSans-53\"/>\r\n      </g>\r\n     </g>\r\n    </g>\r\n    <g id=\"xtick_2\">\r\n     <g id=\"line2d_2\">\r\n      <g>\r\n       <use style=\"stroke:#000000;stroke-width:0.8;\" x=\"117.699483\" xlink:href=\"#me72fc9ebad\" y=\"239.758125\"/>\r\n      </g>\r\n     </g>\r\n     <g id=\"text_2\">\r\n      <!-- −0.50 -->\r\n      <g transform=\"translate(102.376827 254.356562)scale(0.1 -0.1)\">\r\n       <use xlink:href=\"#DejaVuSans-8722\"/>\r\n       <use x=\"83.789062\" xlink:href=\"#DejaVuSans-48\"/>\r\n       <use x=\"147.412109\" xlink:href=\"#DejaVuSans-46\"/>\r\n       <use x=\"179.199219\" xlink:href=\"#DejaVuSans-53\"/>\r\n       <use x=\"242.822266\" xlink:href=\"#DejaVuSans-48\"/>\r\n      </g>\r\n     </g>\r\n    </g>\r\n    <g id=\"xtick_3\">\r\n     <g id=\"line2d_3\">\r\n      <g>\r\n       <use style=\"stroke:#000000;stroke-width:0.8;\" x=\"157.169022\" xlink:href=\"#me72fc9ebad\" y=\"239.758125\"/>\r\n      </g>\r\n     </g>\r\n     <g id=\"text_3\">\r\n      <!-- −0.25 -->\r\n      <g transform=\"translate(141.846365 254.356562)scale(0.1 -0.1)\">\r\n       <defs>\r\n        <path d=\"M 19.1875 8.296875 \r\nL 53.609375 8.296875 \r\nL 53.609375 0 \r\nL 7.328125 0 \r\nL 7.328125 8.296875 \r\nQ 12.9375 14.109375 22.625 23.890625 \r\nQ 32.328125 33.6875 34.8125 36.53125 \r\nQ 39.546875 41.84375 41.421875 45.53125 \r\nQ 43.3125 49.21875 43.3125 52.78125 \r\nQ 43.3125 58.59375 39.234375 62.25 \r\nQ 35.15625 65.921875 28.609375 65.921875 \r\nQ 23.96875 65.921875 18.8125 64.3125 \r\nQ 13.671875 62.703125 7.8125 59.421875 \r\nL 7.8125 69.390625 \r\nQ 13.765625 71.78125 18.9375 73 \r\nQ 24.125 74.21875 28.421875 74.21875 \r\nQ 39.75 74.21875 46.484375 68.546875 \r\nQ 53.21875 62.890625 53.21875 53.421875 \r\nQ 53.21875 48.921875 51.53125 44.890625 \r\nQ 49.859375 40.875 45.40625 35.40625 \r\nQ 44.1875 33.984375 37.640625 27.21875 \r\nQ 31.109375 20.453125 19.1875 8.296875 \r\nz\r\n\" id=\"DejaVuSans-50\"/>\r\n       </defs>\r\n       <use xlink:href=\"#DejaVuSans-8722\"/>\r\n       <use x=\"83.789062\" xlink:href=\"#DejaVuSans-48\"/>\r\n       <use x=\"147.412109\" xlink:href=\"#DejaVuSans-46\"/>\r\n       <use x=\"179.199219\" xlink:href=\"#DejaVuSans-50\"/>\r\n       <use x=\"242.822266\" xlink:href=\"#DejaVuSans-53\"/>\r\n      </g>\r\n     </g>\r\n    </g>\r\n    <g id=\"xtick_4\">\r\n     <g id=\"line2d_4\">\r\n      <g>\r\n       <use style=\"stroke:#000000;stroke-width:0.8;\" x=\"196.63856\" xlink:href=\"#me72fc9ebad\" y=\"239.758125\"/>\r\n      </g>\r\n     </g>\r\n     <g id=\"text_4\">\r\n      <!-- 0.00 -->\r\n      <g transform=\"translate(185.505748 254.356562)scale(0.1 -0.1)\">\r\n       <use xlink:href=\"#DejaVuSans-48\"/>\r\n       <use x=\"63.623047\" xlink:href=\"#DejaVuSans-46\"/>\r\n       <use x=\"95.410156\" xlink:href=\"#DejaVuSans-48\"/>\r\n       <use x=\"159.033203\" xlink:href=\"#DejaVuSans-48\"/>\r\n      </g>\r\n     </g>\r\n    </g>\r\n    <g id=\"xtick_5\">\r\n     <g id=\"line2d_5\">\r\n      <g>\r\n       <use style=\"stroke:#000000;stroke-width:0.8;\" x=\"236.108098\" xlink:href=\"#me72fc9ebad\" y=\"239.758125\"/>\r\n      </g>\r\n     </g>\r\n     <g id=\"text_5\">\r\n      <!-- 0.25 -->\r\n      <g transform=\"translate(224.975286 254.356562)scale(0.1 -0.1)\">\r\n       <use xlink:href=\"#DejaVuSans-48\"/>\r\n       <use x=\"63.623047\" xlink:href=\"#DejaVuSans-46\"/>\r\n       <use x=\"95.410156\" xlink:href=\"#DejaVuSans-50\"/>\r\n       <use x=\"159.033203\" xlink:href=\"#DejaVuSans-53\"/>\r\n      </g>\r\n     </g>\r\n    </g>\r\n    <g id=\"xtick_6\">\r\n     <g id=\"line2d_6\">\r\n      <g>\r\n       <use style=\"stroke:#000000;stroke-width:0.8;\" x=\"275.577637\" xlink:href=\"#me72fc9ebad\" y=\"239.758125\"/>\r\n      </g>\r\n     </g>\r\n     <g id=\"text_6\">\r\n      <!-- 0.50 -->\r\n      <g transform=\"translate(264.444824 254.356562)scale(0.1 -0.1)\">\r\n       <use xlink:href=\"#DejaVuSans-48\"/>\r\n       <use x=\"63.623047\" xlink:href=\"#DejaVuSans-46\"/>\r\n       <use x=\"95.410156\" xlink:href=\"#DejaVuSans-53\"/>\r\n       <use x=\"159.033203\" xlink:href=\"#DejaVuSans-48\"/>\r\n      </g>\r\n     </g>\r\n    </g>\r\n    <g id=\"xtick_7\">\r\n     <g id=\"line2d_7\">\r\n      <g>\r\n       <use style=\"stroke:#000000;stroke-width:0.8;\" x=\"315.047175\" xlink:href=\"#me72fc9ebad\" y=\"239.758125\"/>\r\n      </g>\r\n     </g>\r\n     <g id=\"text_7\">\r\n      <!-- 0.75 -->\r\n      <g transform=\"translate(303.914363 254.356562)scale(0.1 -0.1)\">\r\n       <use xlink:href=\"#DejaVuSans-48\"/>\r\n       <use x=\"63.623047\" xlink:href=\"#DejaVuSans-46\"/>\r\n       <use x=\"95.410156\" xlink:href=\"#DejaVuSans-55\"/>\r\n       <use x=\"159.033203\" xlink:href=\"#DejaVuSans-53\"/>\r\n      </g>\r\n     </g>\r\n    </g>\r\n    <g id=\"xtick_8\">\r\n     <g id=\"line2d_8\">\r\n      <g>\r\n       <use style=\"stroke:#000000;stroke-width:0.8;\" x=\"354.516714\" xlink:href=\"#me72fc9ebad\" y=\"239.758125\"/>\r\n      </g>\r\n     </g>\r\n     <g id=\"text_8\">\r\n      <!-- 1.00 -->\r\n      <g transform=\"translate(343.383901 254.356562)scale(0.1 -0.1)\">\r\n       <defs>\r\n        <path d=\"M 12.40625 8.296875 \r\nL 28.515625 8.296875 \r\nL 28.515625 63.921875 \r\nL 10.984375 60.40625 \r\nL 10.984375 69.390625 \r\nL 28.421875 72.90625 \r\nL 38.28125 72.90625 \r\nL 38.28125 8.296875 \r\nL 54.390625 8.296875 \r\nL 54.390625 0 \r\nL 12.40625 0 \r\nz\r\n\" id=\"DejaVuSans-49\"/>\r\n       </defs>\r\n       <use xlink:href=\"#DejaVuSans-49\"/>\r\n       <use x=\"63.623047\" xlink:href=\"#DejaVuSans-46\"/>\r\n       <use x=\"95.410156\" xlink:href=\"#DejaVuSans-48\"/>\r\n       <use x=\"159.033203\" xlink:href=\"#DejaVuSans-48\"/>\r\n      </g>\r\n     </g>\r\n    </g>\r\n    <g id=\"text_9\">\r\n     <!-- Dimension 1 -->\r\n     <g transform=\"translate(188.214063 268.034687)scale(0.1 -0.1)\">\r\n      <defs>\r\n       <path d=\"M 19.671875 64.796875 \r\nL 19.671875 8.109375 \r\nL 31.59375 8.109375 \r\nQ 46.6875 8.109375 53.6875 14.9375 \r\nQ 60.6875 21.78125 60.6875 36.53125 \r\nQ 60.6875 51.171875 53.6875 57.984375 \r\nQ 46.6875 64.796875 31.59375 64.796875 \r\nz\r\nM 9.8125 72.90625 \r\nL 30.078125 72.90625 \r\nQ 51.265625 72.90625 61.171875 64.09375 \r\nQ 71.09375 55.28125 71.09375 36.53125 \r\nQ 71.09375 17.671875 61.125 8.828125 \r\nQ 51.171875 0 30.078125 0 \r\nL 9.8125 0 \r\nz\r\n\" id=\"DejaVuSans-68\"/>\r\n       <path d=\"M 9.421875 54.6875 \r\nL 18.40625 54.6875 \r\nL 18.40625 0 \r\nL 9.421875 0 \r\nz\r\nM 9.421875 75.984375 \r\nL 18.40625 75.984375 \r\nL 18.40625 64.59375 \r\nL 9.421875 64.59375 \r\nz\r\n\" id=\"DejaVuSans-105\"/>\r\n       <path d=\"M 52 44.1875 \r\nQ 55.375 50.25 60.0625 53.125 \r\nQ 64.75 56 71.09375 56 \r\nQ 79.640625 56 84.28125 50.015625 \r\nQ 88.921875 44.046875 88.921875 33.015625 \r\nL 88.921875 0 \r\nL 79.890625 0 \r\nL 79.890625 32.71875 \r\nQ 79.890625 40.578125 77.09375 44.375 \r\nQ 74.3125 48.1875 68.609375 48.1875 \r\nQ 61.625 48.1875 57.5625 43.546875 \r\nQ 53.515625 38.921875 53.515625 30.90625 \r\nL 53.515625 0 \r\nL 44.484375 0 \r\nL 44.484375 32.71875 \r\nQ 44.484375 40.625 41.703125 44.40625 \r\nQ 38.921875 48.1875 33.109375 48.1875 \r\nQ 26.21875 48.1875 22.15625 43.53125 \r\nQ 18.109375 38.875 18.109375 30.90625 \r\nL 18.109375 0 \r\nL 9.078125 0 \r\nL 9.078125 54.6875 \r\nL 18.109375 54.6875 \r\nL 18.109375 46.1875 \r\nQ 21.1875 51.21875 25.484375 53.609375 \r\nQ 29.78125 56 35.6875 56 \r\nQ 41.65625 56 45.828125 52.96875 \r\nQ 50 49.953125 52 44.1875 \r\nz\r\n\" id=\"DejaVuSans-109\"/>\r\n       <path d=\"M 56.203125 29.59375 \r\nL 56.203125 25.203125 \r\nL 14.890625 25.203125 \r\nQ 15.484375 15.921875 20.484375 11.0625 \r\nQ 25.484375 6.203125 34.421875 6.203125 \r\nQ 39.59375 6.203125 44.453125 7.46875 \r\nQ 49.3125 8.734375 54.109375 11.28125 \r\nL 54.109375 2.78125 \r\nQ 49.265625 0.734375 44.1875 -0.34375 \r\nQ 39.109375 -1.421875 33.890625 -1.421875 \r\nQ 20.796875 -1.421875 13.15625 6.1875 \r\nQ 5.515625 13.8125 5.515625 26.8125 \r\nQ 5.515625 40.234375 12.765625 48.109375 \r\nQ 20.015625 56 32.328125 56 \r\nQ 43.359375 56 49.78125 48.890625 \r\nQ 56.203125 41.796875 56.203125 29.59375 \r\nz\r\nM 47.21875 32.234375 \r\nQ 47.125 39.59375 43.09375 43.984375 \r\nQ 39.0625 48.390625 32.421875 48.390625 \r\nQ 24.90625 48.390625 20.390625 44.140625 \r\nQ 15.875 39.890625 15.1875 32.171875 \r\nz\r\n\" id=\"DejaVuSans-101\"/>\r\n       <path d=\"M 54.890625 33.015625 \r\nL 54.890625 0 \r\nL 45.90625 0 \r\nL 45.90625 32.71875 \r\nQ 45.90625 40.484375 42.875 44.328125 \r\nQ 39.84375 48.1875 33.796875 48.1875 \r\nQ 26.515625 48.1875 22.3125 43.546875 \r\nQ 18.109375 38.921875 18.109375 30.90625 \r\nL 18.109375 0 \r\nL 9.078125 0 \r\nL 9.078125 54.6875 \r\nL 18.109375 54.6875 \r\nL 18.109375 46.1875 \r\nQ 21.34375 51.125 25.703125 53.5625 \r\nQ 30.078125 56 35.796875 56 \r\nQ 45.21875 56 50.046875 50.171875 \r\nQ 54.890625 44.34375 54.890625 33.015625 \r\nz\r\n\" id=\"DejaVuSans-110\"/>\r\n       <path d=\"M 44.28125 53.078125 \r\nL 44.28125 44.578125 \r\nQ 40.484375 46.53125 36.375 47.5 \r\nQ 32.28125 48.484375 27.875 48.484375 \r\nQ 21.1875 48.484375 17.84375 46.4375 \r\nQ 14.5 44.390625 14.5 40.28125 \r\nQ 14.5 37.15625 16.890625 35.375 \r\nQ 19.28125 33.59375 26.515625 31.984375 \r\nL 29.59375 31.296875 \r\nQ 39.15625 29.25 43.1875 25.515625 \r\nQ 47.21875 21.78125 47.21875 15.09375 \r\nQ 47.21875 7.46875 41.1875 3.015625 \r\nQ 35.15625 -1.421875 24.609375 -1.421875 \r\nQ 20.21875 -1.421875 15.453125 -0.5625 \r\nQ 10.6875 0.296875 5.421875 2 \r\nL 5.421875 11.28125 \r\nQ 10.40625 8.6875 15.234375 7.390625 \r\nQ 20.0625 6.109375 24.8125 6.109375 \r\nQ 31.15625 6.109375 34.5625 8.28125 \r\nQ 37.984375 10.453125 37.984375 14.40625 \r\nQ 37.984375 18.0625 35.515625 20.015625 \r\nQ 33.0625 21.96875 24.703125 23.78125 \r\nL 21.578125 24.515625 \r\nQ 13.234375 26.265625 9.515625 29.90625 \r\nQ 5.8125 33.546875 5.8125 39.890625 \r\nQ 5.8125 47.609375 11.28125 51.796875 \r\nQ 16.75 56 26.8125 56 \r\nQ 31.78125 56 36.171875 55.265625 \r\nQ 40.578125 54.546875 44.28125 53.078125 \r\nz\r\n\" id=\"DejaVuSans-115\"/>\r\n       <path d=\"M 30.609375 48.390625 \r\nQ 23.390625 48.390625 19.1875 42.75 \r\nQ 14.984375 37.109375 14.984375 27.296875 \r\nQ 14.984375 17.484375 19.15625 11.84375 \r\nQ 23.34375 6.203125 30.609375 6.203125 \r\nQ 37.796875 6.203125 41.984375 11.859375 \r\nQ 46.1875 17.53125 46.1875 27.296875 \r\nQ 46.1875 37.015625 41.984375 42.703125 \r\nQ 37.796875 48.390625 30.609375 48.390625 \r\nz\r\nM 30.609375 56 \r\nQ 42.328125 56 49.015625 48.375 \r\nQ 55.71875 40.765625 55.71875 27.296875 \r\nQ 55.71875 13.875 49.015625 6.21875 \r\nQ 42.328125 -1.421875 30.609375 -1.421875 \r\nQ 18.84375 -1.421875 12.171875 6.21875 \r\nQ 5.515625 13.875 5.515625 27.296875 \r\nQ 5.515625 40.765625 12.171875 48.375 \r\nQ 18.84375 56 30.609375 56 \r\nz\r\n\" id=\"DejaVuSans-111\"/>\r\n       <path id=\"DejaVuSans-32\"/>\r\n      </defs>\r\n      <use xlink:href=\"#DejaVuSans-68\"/>\r\n      <use x=\"77.001953\" xlink:href=\"#DejaVuSans-105\"/>\r\n      <use x=\"104.785156\" xlink:href=\"#DejaVuSans-109\"/>\r\n      <use x=\"202.197266\" xlink:href=\"#DejaVuSans-101\"/>\r\n      <use x=\"263.720703\" xlink:href=\"#DejaVuSans-110\"/>\r\n      <use x=\"327.099609\" xlink:href=\"#DejaVuSans-115\"/>\r\n      <use x=\"379.199219\" xlink:href=\"#DejaVuSans-105\"/>\r\n      <use x=\"406.982422\" xlink:href=\"#DejaVuSans-111\"/>\r\n      <use x=\"468.164062\" xlink:href=\"#DejaVuSans-110\"/>\r\n      <use x=\"531.542969\" xlink:href=\"#DejaVuSans-32\"/>\r\n      <use x=\"563.330078\" xlink:href=\"#DejaVuSans-49\"/>\r\n     </g>\r\n    </g>\r\n   </g>\r\n   <g id=\"matplotlib.axis_2\">\r\n    <g id=\"ytick_1\">\r\n     <g id=\"line2d_9\">\r\n      <defs>\r\n       <path d=\"M 0 0 \r\nL -3.5 0 \r\n\" id=\"m44a7c14dbb\" style=\"stroke:#000000;stroke-width:0.8;\"/>\r\n      </defs>\r\n      <g>\r\n       <use style=\"stroke:#000000;stroke-width:0.8;\" x=\"52.160938\" xlink:href=\"#m44a7c14dbb\" y=\"206.06523\"/>\r\n      </g>\r\n     </g>\r\n     <g id=\"text_10\">\r\n      <!-- −0.4 -->\r\n      <g transform=\"translate(20.878125 209.864449)scale(0.1 -0.1)\">\r\n       <defs>\r\n        <path d=\"M 37.796875 64.3125 \r\nL 12.890625 25.390625 \r\nL 37.796875 25.390625 \r\nz\r\nM 35.203125 72.90625 \r\nL 47.609375 72.90625 \r\nL 47.609375 25.390625 \r\nL 58.015625 25.390625 \r\nL 58.015625 17.1875 \r\nL 47.609375 17.1875 \r\nL 47.609375 0 \r\nL 37.796875 0 \r\nL 37.796875 17.1875 \r\nL 4.890625 17.1875 \r\nL 4.890625 26.703125 \r\nz\r\n\" id=\"DejaVuSans-52\"/>\r\n       </defs>\r\n       <use xlink:href=\"#DejaVuSans-8722\"/>\r\n       <use x=\"83.789062\" xlink:href=\"#DejaVuSans-48\"/>\r\n       <use x=\"147.412109\" xlink:href=\"#DejaVuSans-46\"/>\r\n       <use x=\"179.199219\" xlink:href=\"#DejaVuSans-52\"/>\r\n      </g>\r\n     </g>\r\n    </g>\r\n    <g id=\"ytick_2\">\r\n     <g id=\"line2d_10\">\r\n      <g>\r\n       <use style=\"stroke:#000000;stroke-width:0.8;\" x=\"52.160938\" xlink:href=\"#m44a7c14dbb\" y=\"168.96886\"/>\r\n      </g>\r\n     </g>\r\n     <g id=\"text_11\">\r\n      <!-- −0.2 -->\r\n      <g transform=\"translate(20.878125 172.768079)scale(0.1 -0.1)\">\r\n       <use xlink:href=\"#DejaVuSans-8722\"/>\r\n       <use x=\"83.789062\" xlink:href=\"#DejaVuSans-48\"/>\r\n       <use x=\"147.412109\" xlink:href=\"#DejaVuSans-46\"/>\r\n       <use x=\"179.199219\" xlink:href=\"#DejaVuSans-50\"/>\r\n      </g>\r\n     </g>\r\n    </g>\r\n    <g id=\"ytick_3\">\r\n     <g id=\"line2d_11\">\r\n      <g>\r\n       <use style=\"stroke:#000000;stroke-width:0.8;\" x=\"52.160938\" xlink:href=\"#m44a7c14dbb\" y=\"131.87249\"/>\r\n      </g>\r\n     </g>\r\n     <g id=\"text_12\">\r\n      <!-- 0.0 -->\r\n      <g transform=\"translate(29.257812 135.671708)scale(0.1 -0.1)\">\r\n       <use xlink:href=\"#DejaVuSans-48\"/>\r\n       <use x=\"63.623047\" xlink:href=\"#DejaVuSans-46\"/>\r\n       <use x=\"95.410156\" xlink:href=\"#DejaVuSans-48\"/>\r\n      </g>\r\n     </g>\r\n    </g>\r\n    <g id=\"ytick_4\">\r\n     <g id=\"line2d_12\">\r\n      <g>\r\n       <use style=\"stroke:#000000;stroke-width:0.8;\" x=\"52.160938\" xlink:href=\"#m44a7c14dbb\" y=\"94.776119\"/>\r\n      </g>\r\n     </g>\r\n     <g id=\"text_13\">\r\n      <!-- 0.2 -->\r\n      <g transform=\"translate(29.257812 98.575338)scale(0.1 -0.1)\">\r\n       <use xlink:href=\"#DejaVuSans-48\"/>\r\n       <use x=\"63.623047\" xlink:href=\"#DejaVuSans-46\"/>\r\n       <use x=\"95.410156\" xlink:href=\"#DejaVuSans-50\"/>\r\n      </g>\r\n     </g>\r\n    </g>\r\n    <g id=\"ytick_5\">\r\n     <g id=\"line2d_13\">\r\n      <g>\r\n       <use style=\"stroke:#000000;stroke-width:0.8;\" x=\"52.160938\" xlink:href=\"#m44a7c14dbb\" y=\"57.679749\"/>\r\n      </g>\r\n     </g>\r\n     <g id=\"text_14\">\r\n      <!-- 0.4 -->\r\n      <g transform=\"translate(29.257812 61.478968)scale(0.1 -0.1)\">\r\n       <use xlink:href=\"#DejaVuSans-48\"/>\r\n       <use x=\"63.623047\" xlink:href=\"#DejaVuSans-46\"/>\r\n       <use x=\"95.410156\" xlink:href=\"#DejaVuSans-52\"/>\r\n      </g>\r\n     </g>\r\n    </g>\r\n    <g id=\"text_15\">\r\n     <!-- Dimension 2 -->\r\n     <g transform=\"translate(14.798437 162.385)rotate(-90)scale(0.1 -0.1)\">\r\n      <use xlink:href=\"#DejaVuSans-68\"/>\r\n      <use x=\"77.001953\" xlink:href=\"#DejaVuSans-105\"/>\r\n      <use x=\"104.785156\" xlink:href=\"#DejaVuSans-109\"/>\r\n      <use x=\"202.197266\" xlink:href=\"#DejaVuSans-101\"/>\r\n      <use x=\"263.720703\" xlink:href=\"#DejaVuSans-110\"/>\r\n      <use x=\"327.099609\" xlink:href=\"#DejaVuSans-115\"/>\r\n      <use x=\"379.199219\" xlink:href=\"#DejaVuSans-105\"/>\r\n      <use x=\"406.982422\" xlink:href=\"#DejaVuSans-111\"/>\r\n      <use x=\"468.164062\" xlink:href=\"#DejaVuSans-110\"/>\r\n      <use x=\"531.542969\" xlink:href=\"#DejaVuSans-32\"/>\r\n      <use x=\"563.330078\" xlink:href=\"#DejaVuSans-50\"/>\r\n     </g>\r\n    </g>\r\n   </g>\r\n   <g id=\"patch_3\">\r\n    <path d=\"M 52.160938 239.758125 \r\nL 52.160938 22.318125 \r\n\" style=\"fill:none;stroke:#000000;stroke-linecap:square;stroke-linejoin:miter;stroke-width:0.8;\"/>\r\n   </g>\r\n   <g id=\"patch_4\">\r\n    <path d=\"M 386.960938 239.758125 \r\nL 386.960938 22.318125 \r\n\" style=\"fill:none;stroke:#000000;stroke-linecap:square;stroke-linejoin:miter;stroke-width:0.8;\"/>\r\n   </g>\r\n   <g id=\"patch_5\">\r\n    <path d=\"M 52.160937 239.758125 \r\nL 386.960938 239.758125 \r\n\" style=\"fill:none;stroke:#000000;stroke-linecap:square;stroke-linejoin:miter;stroke-width:0.8;\"/>\r\n   </g>\r\n   <g id=\"patch_6\">\r\n    <path d=\"M 52.160937 22.318125 \r\nL 386.960938 22.318125 \r\n\" style=\"fill:none;stroke:#000000;stroke-linecap:square;stroke-linejoin:miter;stroke-width:0.8;\"/>\r\n   </g>\r\n   <g id=\"text_16\">\r\n    <!-- Data -->\r\n    <g transform=\"translate(205.235 16.318125)scale(0.12 -0.12)\">\r\n     <defs>\r\n      <path d=\"M 34.28125 27.484375 \r\nQ 23.390625 27.484375 19.1875 25 \r\nQ 14.984375 22.515625 14.984375 16.5 \r\nQ 14.984375 11.71875 18.140625 8.90625 \r\nQ 21.296875 6.109375 26.703125 6.109375 \r\nQ 34.1875 6.109375 38.703125 11.40625 \r\nQ 43.21875 16.703125 43.21875 25.484375 \r\nL 43.21875 27.484375 \r\nz\r\nM 52.203125 31.203125 \r\nL 52.203125 0 \r\nL 43.21875 0 \r\nL 43.21875 8.296875 \r\nQ 40.140625 3.328125 35.546875 0.953125 \r\nQ 30.953125 -1.421875 24.3125 -1.421875 \r\nQ 15.921875 -1.421875 10.953125 3.296875 \r\nQ 6 8.015625 6 15.921875 \r\nQ 6 25.140625 12.171875 29.828125 \r\nQ 18.359375 34.515625 30.609375 34.515625 \r\nL 43.21875 34.515625 \r\nL 43.21875 35.40625 \r\nQ 43.21875 41.609375 39.140625 45 \r\nQ 35.0625 48.390625 27.6875 48.390625 \r\nQ 23 48.390625 18.546875 47.265625 \r\nQ 14.109375 46.140625 10.015625 43.890625 \r\nL 10.015625 52.203125 \r\nQ 14.9375 54.109375 19.578125 55.046875 \r\nQ 24.21875 56 28.609375 56 \r\nQ 40.484375 56 46.34375 49.84375 \r\nQ 52.203125 43.703125 52.203125 31.203125 \r\nz\r\n\" id=\"DejaVuSans-97\"/>\r\n      <path d=\"M 18.3125 70.21875 \r\nL 18.3125 54.6875 \r\nL 36.8125 54.6875 \r\nL 36.8125 47.703125 \r\nL 18.3125 47.703125 \r\nL 18.3125 18.015625 \r\nQ 18.3125 11.328125 20.140625 9.421875 \r\nQ 21.96875 7.515625 27.59375 7.515625 \r\nL 36.8125 7.515625 \r\nL 36.8125 0 \r\nL 27.59375 0 \r\nQ 17.1875 0 13.234375 3.875 \r\nQ 9.28125 7.765625 9.28125 18.015625 \r\nL 9.28125 47.703125 \r\nL 2.6875 47.703125 \r\nL 2.6875 54.6875 \r\nL 9.28125 54.6875 \r\nL 9.28125 70.21875 \r\nz\r\n\" id=\"DejaVuSans-116\"/>\r\n     </defs>\r\n     <use xlink:href=\"#DejaVuSans-68\"/>\r\n     <use x=\"77.001953\" xlink:href=\"#DejaVuSans-97\"/>\r\n     <use x=\"138.28125\" xlink:href=\"#DejaVuSans-116\"/>\r\n     <use x=\"177.490234\" xlink:href=\"#DejaVuSans-97\"/>\r\n    </g>\r\n   </g>\r\n  </g>\r\n </g>\r\n <defs>\r\n  <clipPath id=\"p883a4deb1d\">\r\n   <rect height=\"217.44\" width=\"334.8\" x=\"52.160938\" y=\"22.318125\"/>\r\n  </clipPath>\r\n </defs>\r\n</svg>\r\n",
                        "text/plain": [
                            "<Figure size 432x288 with 1 Axes>"
                        ]
                    },
                    "metadata": {
                        "needs_background": "light"
                    }
                }
            ],
            "metadata": {}
        },
        {
            "cell_type": "code",
            "execution_count": 1,
            "source": [
                "def myfun(num1,num2):\r\n",
                "    res = num1 * num2\r\n",
                "    return res\r\n",
                "\r\n",
                "num1= int(input(\"Enter first num\"))\r\n",
                "num2= int(input(\"Enter secound num\"))\r\n",
                "\r\n",
                "res = myfun(num1 , num2)\r\n",
                "print(res)"
            ],
            "outputs": [
                {
                    "output_type": "stream",
                    "name": "stdout",
                    "text": [
                        "6\n"
                    ]
                }
            ],
            "metadata": {}
        },
        {
            "cell_type": "code",
            "execution_count": 1,
            "source": [
                " "
            ],
            "outputs": [],
            "metadata": {}
        },
        {
            "cell_type": "code",
            "execution_count": 2,
            "source": [
                "from sklearn import datasets\r\n",
                "iris = datasets.load_iris()\r\n",
                "digits = datasets.load_digits()"
            ],
            "outputs": [],
            "metadata": {}
        },
        {
            "cell_type": "code",
            "execution_count": 6,
            "source": [
                "from numpy import array\r\n",
                "from sklearn.model_selection import KFold\r\n",
                "# data sample\r\n",
                "data = array([0.1, 0.2, 0.3, 0.4, 0.5, 0.6])\r\n",
                "# prepare cross validation\r\n",
                "kfold = KFold(3, True, 1)\r\n",
                "# enumerate splits\r\n",
                "for train, test in kfold.split(data):\r\n",
                "\tprint('train: %s, test: %s' % (data[train], data[test]))"
            ],
            "outputs": [
                {
                    "output_type": "stream",
                    "name": "stdout",
                    "text": [
                        "train: [0.1 0.4 0.5 0.6], test: [0.2 0.3]\n",
                        "train: [0.2 0.3 0.4 0.6], test: [0.1 0.5]\n",
                        "train: [0.1 0.2 0.3 0.5], test: [0.4 0.6]\n"
                    ]
                },
                {
                    "output_type": "stream",
                    "name": "stderr",
                    "text": [
                        "C:\\ProgramData\\Anaconda3\\lib\\site-packages\\sklearn\\utils\\validation.py:70: FutureWarning: Pass shuffle=True, random_state=1 as keyword args. From version 1.0 (renaming of 0.25) passing these as positional arguments will result in an error\n",
                        "  warnings.warn(f\"Pass {args_msg} as keyword args. From version \"\n"
                    ]
                }
            ],
            "metadata": {}
        },
        {
            "cell_type": "code",
            "execution_count": 3,
            "source": [
                "import logging\r\n",
                "\r\n",
                "from azureml.core.run import Run\r\n",
                "\r\n",
                "run = Run.get_context()\r\n",
                "\r\n",
                "# Azure ML Scalar value logging\r\n",
                "run.log(\"scalar_value\", 0.95)\r\n",
                "\r\n",
                "# Python print statement\r\n",
                "print(\"I am a python print statement, I will be sent to the driver logs.\")\r\n",
                "\r\n",
                "# Initialize python logger\r\n",
                "logger = logging.getLogger(__name__)\r\n",
                "logger.setLevel(level=logging.DEBUG)\r\n",
                "\r\n",
                "# Plain python logging statements\r\n",
                "logger.debug(\"I am a plain debug statement, I will be sent to the driver logs.\")\r\n",
                "logger.info(\"I am a plain info statement, I will be sent to the driver logs.\")\r\n",
                "\r\n"
            ],
            "outputs": [
                {
                    "output_type": "stream",
                    "name": "stdout",
                    "text": [
                        "Attempted to log scalar metric scalar_value:\n",
                        "0.95\n",
                        "I am a python print statement, I will be sent to the driver logs.\n"
                    ]
                }
            ],
            "metadata": {}
        },
        {
            "cell_type": "code",
            "execution_count": 5,
            "source": [
                "from argparse import ArgumentParser as AP\r\n",
                "\r\n",
                "parser = AP()\r\n",
                "parser.add_argument('--side',type=int)\r\n",
                "\r\n",
                "arg = parser.parse_args()\r\n",
                "\r\n",
                "def areasequare(side):\r\n",
                "    area = side ** 2\r\n",
                "    return area\r\n",
                "\r\n",
                "#side = int(input())\r\n",
                "area = areasequare(arg.side)\r\n",
                "print('Area of 20 is', area)"
            ],
            "outputs": [
                {
                    "output_type": "stream",
                    "name": "stdout",
                    "text": [
                        "Area of 20 is 4\n"
                    ]
                }
            ],
            "metadata": {}
        },
        {
            "cell_type": "code",
            "execution_count": 2,
            "source": [
                "\r\n",
                "import pandas as pd\r\n",
                "\r\n",
                "# Read dataset\r\n",
                "df = pd.read_csv('./adultincometrunc.csv')\r\n",
                "\r\n",
                "# Create Dummy variables\r\n",
                "data_prep = pd.get_dummies(df, drop_first=True)\r\n",
                "\r\n",
                "\r\n",
                "# Create X and Y Variables\r\n",
                "X = data_prep.iloc[:, :-1]\r\n",
                "Y = data_prep.iloc[:, -1]"
            ],
            "outputs": [],
            "metadata": {}
        },
        {
            "cell_type": "code",
            "execution_count": 3,
            "source": [
                "df.head()"
            ],
            "outputs": [
                {
                    "output_type": "execute_result",
                    "data": {
                        "text/html": [
                            "<div>\n",
                            "<style scoped>\n",
                            "    .dataframe tbody tr th:only-of-type {\n",
                            "        vertical-align: middle;\n",
                            "    }\n",
                            "\n",
                            "    .dataframe tbody tr th {\n",
                            "        vertical-align: top;\n",
                            "    }\n",
                            "\n",
                            "    .dataframe thead th {\n",
                            "        text-align: right;\n",
                            "    }\n",
                            "</style>\n",
                            "<table border=\"1\" class=\"dataframe\">\n",
                            "  <thead>\n",
                            "    <tr style=\"text-align: right;\">\n",
                            "      <th></th>\n",
                            "      <th>age</th>\n",
                            "      <th>wc</th>\n",
                            "      <th>education</th>\n",
                            "      <th>marital status</th>\n",
                            "      <th>race</th>\n",
                            "      <th>gender</th>\n",
                            "      <th>hours per week</th>\n",
                            "      <th>IncomeClass</th>\n",
                            "    </tr>\n",
                            "  </thead>\n",
                            "  <tbody>\n",
                            "    <tr>\n",
                            "      <th>0</th>\n",
                            "      <td>38</td>\n",
                            "      <td>Private</td>\n",
                            "      <td>HS-grad</td>\n",
                            "      <td>Divorced</td>\n",
                            "      <td>White</td>\n",
                            "      <td>Male</td>\n",
                            "      <td>40</td>\n",
                            "      <td>&lt;=50K</td>\n",
                            "    </tr>\n",
                            "    <tr>\n",
                            "      <th>1</th>\n",
                            "      <td>28</td>\n",
                            "      <td>Private</td>\n",
                            "      <td>Bachelors</td>\n",
                            "      <td>Married</td>\n",
                            "      <td>Black</td>\n",
                            "      <td>Female</td>\n",
                            "      <td>40</td>\n",
                            "      <td>&lt;=50K</td>\n",
                            "    </tr>\n",
                            "    <tr>\n",
                            "      <th>2</th>\n",
                            "      <td>37</td>\n",
                            "      <td>Private</td>\n",
                            "      <td>Masters</td>\n",
                            "      <td>Married</td>\n",
                            "      <td>White</td>\n",
                            "      <td>Female</td>\n",
                            "      <td>40</td>\n",
                            "      <td>&lt;=50K</td>\n",
                            "    </tr>\n",
                            "    <tr>\n",
                            "      <th>3</th>\n",
                            "      <td>31</td>\n",
                            "      <td>Private</td>\n",
                            "      <td>Masters</td>\n",
                            "      <td>Never-married</td>\n",
                            "      <td>White</td>\n",
                            "      <td>Female</td>\n",
                            "      <td>50</td>\n",
                            "      <td>&gt;50K</td>\n",
                            "    </tr>\n",
                            "    <tr>\n",
                            "      <th>4</th>\n",
                            "      <td>42</td>\n",
                            "      <td>Private</td>\n",
                            "      <td>Bachelors</td>\n",
                            "      <td>Married</td>\n",
                            "      <td>White</td>\n",
                            "      <td>Male</td>\n",
                            "      <td>40</td>\n",
                            "      <td>&gt;50K</td>\n",
                            "    </tr>\n",
                            "  </tbody>\n",
                            "</table>\n",
                            "</div>"
                        ],
                        "text/plain": [
                            "   age        wc   education  marital status    race   gender  hours per week  \\\n",
                            "0   38   Private     HS-grad        Divorced   White     Male              40   \n",
                            "1   28   Private   Bachelors         Married   Black   Female              40   \n",
                            "2   37   Private     Masters         Married   White   Female              40   \n",
                            "3   31   Private     Masters   Never-married   White   Female              50   \n",
                            "4   42   Private   Bachelors         Married   White     Male              40   \n",
                            "\n",
                            "  IncomeClass  \n",
                            "0       <=50K  \n",
                            "1       <=50K  \n",
                            "2       <=50K  \n",
                            "3        >50K  \n",
                            "4        >50K  "
                        ]
                    },
                    "metadata": {},
                    "execution_count": 3
                }
            ],
            "metadata": {}
        },
        {
            "cell_type": "code",
            "execution_count": 3,
            "source": [
                "from sklearn.model_selection import train_test_split\r\n",
                "\r\n",
                "X_train,X_test,Y_train,Y_test = train_test_split(X,Y,test_size=0.3,random_state=1234,stratify=Y)\r\n",
                "\r\n",
                "from sklearn.ensemble import RandomForestClassifier\r\n",
                "rfc = RandomForestClassifier(random_state=1234)\r\n",
                "\r\n",
                "trained_model = rfc.fit(X_train,Y_train)\r\n",
                "\r\n",
                "Y_predict = rfc.predict(X_test)\r\n",
                "from sklearn.metrics import confusion_matrix\r\n",
                "cm = confusion_matrix(Y_test, Y_predict)\r\n",
                "score = rfc.score(X_test, Y_test)   "
            ],
            "outputs": [],
            "metadata": {}
        },
        {
            "cell_type": "code",
            "execution_count": 4,
            "source": [
                "\r\n",
                "# ---------------------------------------------------------------\r\n",
                "# Create explanations for the model\r\n",
                "# Make sure to install azureml-interpret azureml-explain-model\r\n",
                "# ---------------------------------------------------------------\r\n",
                "\r\n",
                "# Import the Tabular Explainer class\r\n",
                "from interpret.ext.blackbox import TabularExplainer\r\n",
                "\r\n",
                "\r\n",
                "# Define the Classes and features\r\n",
                "classes  = ['Not Greater than 50K', 'Greater than 50K']\r\n",
                "features = list(X.columns)\r\n",
                "\r\n",
                "\r\n",
                "# Create the Tabular Explainer object\r\n",
                "tab_explainer = TabularExplainer(trained_model,\r\n",
                "                                 X_train,\r\n",
                "                                 features=features,\r\n",
                "                                 classes=classes)\r\n",
                "\r\n",
                "\r\n",
                "# Get the global explanations\r\n",
                "global_explanation = tab_explainer.explain_global(X_train)\r\n",
                "\r\n",
                "\r\n",
                "# Get the feature importance data\r\n",
                "global_fi = global_explanation.get_feature_importance_dict()\r\n",
                "\r\n",
                "# Print the global feature importance values\r\n",
                "for feature, importance in global_fi.items():\r\n",
                "    print(feature,\":\", importance)\r\n",
                "\r\n",
                "\r\n",
                "# Get Local feature importances\r\n",
                "X_explain = X_test[0:5]\r\n",
                "\r\n",
                "\r\n",
                "# Create Local explanations object\r\n",
                "local_explanation = tab_explainer.explain_local(X_explain)\r\n",
                "\r\n",
                "# Extract the feature names and corresponding importance values\r\n",
                "local_features   = local_explanation.get_ranked_local_names()\r\n",
                "local_importance = local_explanation.get_ranked_local_values()\r\n",
                "\r\n",
                "\r\n",
                "# Print the local explanations\r\n",
                "for i in range(0, len(local_features)):\r\n",
                "    labels = local_features[i]\r\n",
                "    print(\"\\n Feature suppport values for : \", classes[i])\r\n",
                "    \r\n",
                "    for j in range(0, len(labels)):\r\n",
                "\r\n",
                "        if Y_predict[j] == i:\r\n",
                "            print(\"\\n\\tObservation number : \", j + 1)\r\n",
                "            feature_names = labels[j]\r\n",
                "            \r\n",
                "            print(\"\\t\\t\", \"Feature Name\".ljust(30), \"  Value\")\r\n",
                "            print(\"\\t\\t\", \"-\"*30, \"-\"*10)\r\n",
                "            \r\n",
                "            for k in range(0, len(feature_names)):\r\n",
                "                print(\"\\t\\t\", feature_names[k].ljust(30), round(local_importance[i][j][k], 6))"
            ],
            "outputs": [
                {
                    "output_type": "stream",
                    "name": "stdout",
                    "text": [
                        "marital status_Married : 0.134457897553098\n",
                        "age : 0.08737999026945\n",
                        "hours per week : 0.054862878214208904\n",
                        "education_ HS-grad : 0.05459228226812601\n",
                        "marital status_ Never-married : 0.04201492036510847\n",
                        "education_ Some-college : 0.03902094175894924\n",
                        "gender_ Male : 0.026954924512638787\n",
                        "education_ Masters : 0.013130510698434426\n",
                        "race_ White : 0.013018742998495862\n",
                        "wc_ Private : 0.008260686989919535\n",
                        "wc_ Local-gov : 0.006514623134033063\n",
                        "education_ Prof-school : 0.006411507490632027\n",
                        "race_ Black : 0.00431141694330449\n",
                        "education_ Doctorate : 0.003320328208831908\n",
                        "race_ Asian-Pac-Islander : 0.0021244991478086886\n",
                        "marital status_ Widowed : 0.0016788032177812158\n",
                        "race_ Other : 0.0003622585777075659\n",
                        "education_ Preschool : 3.30258572723802e-05\n",
                        "\n",
                        " Feature suppport values for :  Not Greater than 50K\n",
                        "\n",
                        "\tObservation number :  1\n",
                        "\t\t Feature Name                     Value\n",
                        "\t\t ------------------------------ ----------\n",
                        "\t\t education_ HS-grad             0.157534\n",
                        "\t\t hours per week                 0.062715\n",
                        "\t\t wc_ Private                    0.0179\n",
                        "\t\t education_ Masters             0.012778\n",
                        "\t\t education_ Prof-school         0.004132\n",
                        "\t\t race_ Black                    0.003311\n",
                        "\t\t education_ Doctorate           0.001875\n",
                        "\t\t education_ Preschool           -1.1e-05\n",
                        "\t\t race_ Other                    -0.000325\n",
                        "\t\t wc_ Local-gov                  -0.000783\n",
                        "\t\t race_ Asian-Pac-Islander       -0.001856\n",
                        "\t\t marital status_ Widowed        -0.002629\n",
                        "\t\t gender_ Male                   -0.006227\n",
                        "\t\t race_ White                    -0.013401\n",
                        "\t\t education_ Some-college        -0.022706\n",
                        "\t\t marital status_ Never-married  -0.04377\n",
                        "\t\t age                            -0.064633\n",
                        "\t\t marital status_Married         -0.149913\n",
                        "\n",
                        "\tObservation number :  2\n",
                        "\t\t Feature Name                     Value\n",
                        "\t\t ------------------------------ ----------\n",
                        "\t\t marital status_Married         0.11369\n",
                        "\t\t hours per week                 0.058264\n",
                        "\t\t education_ HS-grad             0.051995\n",
                        "\t\t gender_ Male                   0.023164\n",
                        "\t\t race_ White                    0.017384\n",
                        "\t\t age                            0.010765\n",
                        "\t\t race_ Black                    0.005979\n",
                        "\t\t education_ Masters             0.005284\n",
                        "\t\t wc_ Private                    0.003024\n",
                        "\t\t race_ Asian-Pac-Islander       0.002518\n",
                        "\t\t education_ Prof-school         0.002331\n",
                        "\t\t education_ Doctorate           0.001872\n",
                        "\t\t marital status_ Widowed        0.000108\n",
                        "\t\t education_ Preschool           -9e-06\n",
                        "\t\t race_ Other                    -0.00012\n",
                        "\t\t wc_ Local-gov                  -0.000154\n",
                        "\t\t education_ Some-college        -0.011581\n",
                        "\t\t marital status_ Never-married  -0.017191\n",
                        "\n",
                        "\tObservation number :  3\n",
                        "\t\t Feature Name                     Value\n",
                        "\t\t ------------------------------ ----------\n",
                        "\t\t marital status_Married         0.134219\n",
                        "\t\t education_ HS-grad             0.042854\n",
                        "\t\t gender_ Male                   0.024328\n",
                        "\t\t education_ Masters             0.012574\n",
                        "\t\t hours per week                 0.00731\n",
                        "\t\t education_ Prof-school         0.003684\n",
                        "\t\t education_ Doctorate           0.002328\n",
                        "\t\t race_ Asian-Pac-Islander       0.001136\n",
                        "\t\t education_ Preschool           -1.6e-05\n",
                        "\t\t race_ Other                    -0.000133\n",
                        "\t\t wc_ Local-gov                  -0.00087\n",
                        "\t\t race_ Black                    -0.001906\n",
                        "\t\t wc_ Private                    -0.003067\n",
                        "\t\t race_ White                    -0.004392\n",
                        "\t\t marital status_ Widowed        -0.006525\n",
                        "\t\t education_ Some-college        -0.020963\n",
                        "\t\t marital status_ Never-married  -0.041202\n",
                        "\t\t age                            -0.062038\n",
                        "\n",
                        "\tObservation number :  5\n",
                        "\t\t Feature Name                     Value\n",
                        "\t\t ------------------------------ ----------\n",
                        "\t\t education_ Some-college        0.110241\n",
                        "\t\t age                            0.102257\n",
                        "\t\t hours per week                 0.063144\n",
                        "\t\t education_ Masters             0.014254\n",
                        "\t\t education_ Prof-school         0.00344\n",
                        "\t\t gender_ Male                   0.002959\n",
                        "\t\t education_ Doctorate           0.002483\n",
                        "\t\t education_ Preschool           -1.5e-05\n",
                        "\t\t race_ Other                    -0.00026\n",
                        "\t\t marital status_ Widowed        -0.000331\n",
                        "\t\t race_ Asian-Pac-Islander       -0.000612\n",
                        "\t\t wc_ Local-gov                  -0.000823\n",
                        "\t\t race_ Black                    -0.001552\n",
                        "\t\t wc_ Private                    -0.002132\n",
                        "\t\t race_ White                    -0.006911\n",
                        "\t\t education_ HS-grad             -0.021505\n",
                        "\t\t marital status_ Never-married  -0.028896\n",
                        "\t\t marital status_Married         -0.111086\n",
                        "\n",
                        " Feature suppport values for :  Greater than 50K\n",
                        "\n",
                        "\tObservation number :  4\n",
                        "\t\t Feature Name                     Value\n",
                        "\t\t ------------------------------ ----------\n",
                        "\t\t marital status_Married         0.146159\n",
                        "\t\t education_ Masters             0.113299\n",
                        "\t\t hours per week                 0.092064\n",
                        "\t\t education_ HS-grad             0.071788\n",
                        "\t\t age                            0.059597\n",
                        "\t\t marital status_ Never-married  0.048664\n",
                        "\t\t gender_ Male                   0.048334\n",
                        "\t\t wc_ Private                    0.020095\n",
                        "\t\t education_ Some-college        0.011597\n",
                        "\t\t race_ White                    0.010881\n",
                        "\t\t race_ Asian-Pac-Islander       0.001948\n",
                        "\t\t marital status_ Widowed        0.000716\n",
                        "\t\t race_ Black                    0.000622\n",
                        "\t\t race_ Other                    0.000392\n",
                        "\t\t education_ Preschool           1.9e-05\n",
                        "\t\t education_ Doctorate           -0.001695\n",
                        "\t\t education_ Prof-school         -0.002164\n",
                        "\t\t wc_ Local-gov                  -0.039636\n"
                    ]
                }
            ],
            "metadata": {}
        }
    ],
    "metadata": {
        "orig_nbformat": 4,
        "language_info": {
            "name": "python",
            "version": "3.8.8",
            "mimetype": "text/x-python",
            "codemirror_mode": {
                "name": "ipython",
                "version": 3
            },
            "pygments_lexer": "ipython3",
            "nbconvert_exporter": "python",
            "file_extension": ".py"
        },
        "kernelspec": {
            "name": "python3",
            "display_name": "Python 3.8.8 64-bit ('base': conda)"
        },
        "interpreter": {
            "hash": "b3ba2566441a7c06988d0923437866b63cedc61552a5af99d1f4fb67d367b25f"
        }
    },
    "nbformat": 4,
    "nbformat_minor": 2
}